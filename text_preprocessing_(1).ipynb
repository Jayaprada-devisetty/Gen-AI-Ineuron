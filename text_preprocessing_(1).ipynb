{
  "cells": [
    {
      "cell_type": "markdown",
      "metadata": {
        "id": "view-in-github",
        "colab_type": "text"
      },
      "source": [
        "<a href=\"https://colab.research.google.com/github/Jayaprada-devisetty/Gen-AI-Ineuron/blob/main/text_preprocessing_(1).ipynb\" target=\"_parent\"><img src=\"https://colab.research.google.com/assets/colab-badge.svg\" alt=\"Open In Colab\"/></a>"
      ]
    },
    {
      "cell_type": "code",
      "execution_count": null,
      "metadata": {
        "id": "308gVC_N8ikl",
        "outputId": "2977eb62-d280-4faf-febd-36f608c26adb"
      },
      "outputs": [
        {
          "name": "stderr",
          "output_type": "stream",
          "text": [
            "/tmp/ipykernel_629/4080736814.py:1: DeprecationWarning: \n",
            "Pyarrow will become a required dependency of pandas in the next major release of pandas (pandas 3.0),\n",
            "(to allow more performant data types, such as the Arrow string type, and better interoperability with other libraries)\n",
            "but was not found to be installed on your system.\n",
            "If this would cause problems for you,\n",
            "please provide us feedback at https://github.com/pandas-dev/pandas/issues/54466\n",
            "        \n",
            "  import pandas as pd\n"
          ]
        }
      ],
      "source": [
        "import pandas as pd"
      ]
    },
    {
      "cell_type": "code",
      "execution_count": null,
      "metadata": {
        "id": "ztlsjS528ikp"
      },
      "outputs": [],
      "source": [
        "data=pd.read_csv(\"https://raw.githubusercontent.com/Ankit152/IMDB-sentiment-analysis/master/IMDB-Dataset.csv\")"
      ]
    },
    {
      "cell_type": "code",
      "execution_count": null,
      "metadata": {
        "id": "tftwp12U8ikq",
        "outputId": "94a0e297-95b1-4349-c26c-493b72c91433"
      },
      "outputs": [
        {
          "data": {
            "text/html": [
              "<div>\n",
              "<style scoped>\n",
              "    .dataframe tbody tr th:only-of-type {\n",
              "        vertical-align: middle;\n",
              "    }\n",
              "\n",
              "    .dataframe tbody tr th {\n",
              "        vertical-align: top;\n",
              "    }\n",
              "\n",
              "    .dataframe thead th {\n",
              "        text-align: right;\n",
              "    }\n",
              "</style>\n",
              "<table border=\"1\" class=\"dataframe\">\n",
              "  <thead>\n",
              "    <tr style=\"text-align: right;\">\n",
              "      <th></th>\n",
              "      <th>review</th>\n",
              "      <th>sentiment</th>\n",
              "    </tr>\n",
              "  </thead>\n",
              "  <tbody>\n",
              "    <tr>\n",
              "      <th>0</th>\n",
              "      <td>One of the other reviewers has mentioned that ...</td>\n",
              "      <td>positive</td>\n",
              "    </tr>\n",
              "    <tr>\n",
              "      <th>1</th>\n",
              "      <td>A wonderful little production. &lt;br /&gt;&lt;br /&gt;The...</td>\n",
              "      <td>positive</td>\n",
              "    </tr>\n",
              "    <tr>\n",
              "      <th>2</th>\n",
              "      <td>I thought this was a wonderful way to spend ti...</td>\n",
              "      <td>positive</td>\n",
              "    </tr>\n",
              "    <tr>\n",
              "      <th>3</th>\n",
              "      <td>Basically there's a family where a little boy ...</td>\n",
              "      <td>negative</td>\n",
              "    </tr>\n",
              "    <tr>\n",
              "      <th>4</th>\n",
              "      <td>Petter Mattei's \"Love in the Time of Money\" is...</td>\n",
              "      <td>positive</td>\n",
              "    </tr>\n",
              "  </tbody>\n",
              "</table>\n",
              "</div>"
            ],
            "text/plain": [
              "                                              review sentiment\n",
              "0  One of the other reviewers has mentioned that ...  positive\n",
              "1  A wonderful little production. <br /><br />The...  positive\n",
              "2  I thought this was a wonderful way to spend ti...  positive\n",
              "3  Basically there's a family where a little boy ...  negative\n",
              "4  Petter Mattei's \"Love in the Time of Money\" is...  positive"
            ]
          },
          "execution_count": 4,
          "metadata": {},
          "output_type": "execute_result"
        }
      ],
      "source": [
        "data.head()"
      ]
    },
    {
      "cell_type": "code",
      "execution_count": null,
      "metadata": {
        "id": "38EppHKQ8ikq",
        "outputId": "8d2569cf-5357-4183-bf73-c5e8590816d8"
      },
      "outputs": [
        {
          "data": {
            "text/html": [
              "<div>\n",
              "<style scoped>\n",
              "    .dataframe tbody tr th:only-of-type {\n",
              "        vertical-align: middle;\n",
              "    }\n",
              "\n",
              "    .dataframe tbody tr th {\n",
              "        vertical-align: top;\n",
              "    }\n",
              "\n",
              "    .dataframe thead th {\n",
              "        text-align: right;\n",
              "    }\n",
              "</style>\n",
              "<table border=\"1\" class=\"dataframe\">\n",
              "  <thead>\n",
              "    <tr style=\"text-align: right;\">\n",
              "      <th></th>\n",
              "      <th>review</th>\n",
              "      <th>sentiment</th>\n",
              "    </tr>\n",
              "  </thead>\n",
              "  <tbody>\n",
              "    <tr>\n",
              "      <th>49995</th>\n",
              "      <td>I thought this movie did a down right good job...</td>\n",
              "      <td>positive</td>\n",
              "    </tr>\n",
              "    <tr>\n",
              "      <th>49996</th>\n",
              "      <td>Bad plot, bad dialogue, bad acting, idiotic di...</td>\n",
              "      <td>negative</td>\n",
              "    </tr>\n",
              "    <tr>\n",
              "      <th>49997</th>\n",
              "      <td>I am a Catholic taught in parochial elementary...</td>\n",
              "      <td>negative</td>\n",
              "    </tr>\n",
              "    <tr>\n",
              "      <th>49998</th>\n",
              "      <td>I'm going to have to disagree with the previou...</td>\n",
              "      <td>negative</td>\n",
              "    </tr>\n",
              "    <tr>\n",
              "      <th>49999</th>\n",
              "      <td>No one expects the Star Trek movies to be high...</td>\n",
              "      <td>negative</td>\n",
              "    </tr>\n",
              "  </tbody>\n",
              "</table>\n",
              "</div>"
            ],
            "text/plain": [
              "                                                  review sentiment\n",
              "49995  I thought this movie did a down right good job...  positive\n",
              "49996  Bad plot, bad dialogue, bad acting, idiotic di...  negative\n",
              "49997  I am a Catholic taught in parochial elementary...  negative\n",
              "49998  I'm going to have to disagree with the previou...  negative\n",
              "49999  No one expects the Star Trek movies to be high...  negative"
            ]
          },
          "execution_count": 5,
          "metadata": {},
          "output_type": "execute_result"
        }
      ],
      "source": [
        "data.tail()"
      ]
    },
    {
      "cell_type": "code",
      "execution_count": null,
      "metadata": {
        "id": "4rUmP4Nq8ikr",
        "outputId": "5e0c759f-3627-404c-ce7a-c959effdf50e"
      },
      "outputs": [
        {
          "data": {
            "text/html": [
              "<div>\n",
              "<style scoped>\n",
              "    .dataframe tbody tr th:only-of-type {\n",
              "        vertical-align: middle;\n",
              "    }\n",
              "\n",
              "    .dataframe tbody tr th {\n",
              "        vertical-align: top;\n",
              "    }\n",
              "\n",
              "    .dataframe thead th {\n",
              "        text-align: right;\n",
              "    }\n",
              "</style>\n",
              "<table border=\"1\" class=\"dataframe\">\n",
              "  <thead>\n",
              "    <tr style=\"text-align: right;\">\n",
              "      <th></th>\n",
              "      <th>review</th>\n",
              "      <th>sentiment</th>\n",
              "    </tr>\n",
              "  </thead>\n",
              "  <tbody>\n",
              "    <tr>\n",
              "      <th>32116</th>\n",
              "      <td>I think this movie had really bad production v...</td>\n",
              "      <td>negative</td>\n",
              "    </tr>\n",
              "    <tr>\n",
              "      <th>36939</th>\n",
              "      <td>A pretty average scifi film. The plot was more...</td>\n",
              "      <td>negative</td>\n",
              "    </tr>\n",
              "    <tr>\n",
              "      <th>16949</th>\n",
              "      <td>I tried to like this movie. I love Kevin Space...</td>\n",
              "      <td>negative</td>\n",
              "    </tr>\n",
              "    <tr>\n",
              "      <th>47515</th>\n",
              "      <td>WARNING: PLOT SPOILER&lt;br /&gt;&lt;br /&gt;The always-ab...</td>\n",
              "      <td>positive</td>\n",
              "    </tr>\n",
              "    <tr>\n",
              "      <th>6932</th>\n",
              "      <td>This version of \"The Lost Horizon\" is actually...</td>\n",
              "      <td>positive</td>\n",
              "    </tr>\n",
              "  </tbody>\n",
              "</table>\n",
              "</div>"
            ],
            "text/plain": [
              "                                                  review sentiment\n",
              "32116  I think this movie had really bad production v...  negative\n",
              "36939  A pretty average scifi film. The plot was more...  negative\n",
              "16949  I tried to like this movie. I love Kevin Space...  negative\n",
              "47515  WARNING: PLOT SPOILER<br /><br />The always-ab...  positive\n",
              "6932   This version of \"The Lost Horizon\" is actually...  positive"
            ]
          },
          "execution_count": 6,
          "metadata": {},
          "output_type": "execute_result"
        }
      ],
      "source": [
        "data.sample(5)"
      ]
    },
    {
      "cell_type": "code",
      "execution_count": null,
      "metadata": {
        "id": "S-4FLgJQ8ikr",
        "outputId": "017da868-2940-4f52-a1d8-2a4eb285b0ad"
      },
      "outputs": [
        {
          "data": {
            "text/plain": [
              "\"One of the other reviewers has mentioned that after watching just 1 Oz episode you'll be hooked. They are right, as this is exactly what happened with me.<br /><br />The first thing that struck me about Oz was its brutality and unflinching scenes of violence, which set in right from the word GO. Trust me, this is not a show for the faint hearted or timid. This show pulls no punches with regards to drugs, sex or violence. Its is hardcore, in the classic use of the word.<br /><br />It is called OZ as that is the nickname given to the Oswald Maximum Security State Penitentary. It focuses mainly on Emerald City, an experimental section of the prison where all the cells have glass fronts and face inwards, so privacy is not high on the agenda. Em City is home to many..Aryans, Muslims, gangstas, Latinos, Christians, Italians, Irish and more....so scuffles, death stares, dodgy dealings and shady agreements are never far away.<br /><br />I would say the main appeal of the show is due to the fact that it goes where other shows wouldn't dare. Forget pretty pictures painted for mainstream audiences, forget charm, forget romance...OZ doesn't mess around. The first episode I ever saw struck me as so nasty it was surreal, I couldn't say I was ready for it, but as I watched more, I developed a taste for Oz, and got accustomed to the high levels of graphic violence. Not just violence, but injustice (crooked guards who'll be sold out for a nickel, inmates who'll kill on order and get away with it, well mannered, middle class inmates being turned into prison bitches due to their lack of street skills or prison experience) Watching Oz, you may become comfortable with what is uncomfortable viewing....thats if you can get in touch with your darker side.\""
            ]
          },
          "execution_count": 7,
          "metadata": {},
          "output_type": "execute_result"
        }
      ],
      "source": [
        "data[\"review\"][0]"
      ]
    },
    {
      "cell_type": "code",
      "execution_count": null,
      "metadata": {
        "id": "GglXLHJh8iks",
        "outputId": "fe87ea27-15be-4950-b795-9f6295b83ee5"
      },
      "outputs": [
        {
          "data": {
            "text/plain": [
              "\"Basically there's a family where a little boy (Jake) thinks there's a zombie in his closet & his parents are fighting all the time.<br /><br />This movie is slower than a soap opera... and suddenly, Jake decides to become Rambo and kill the zombie.<br /><br />OK, first of all when you're going to make a film you must Decide if its a thriller or a drama! As a drama the movie is watchable. Parents are divorcing & arguing like in real life. And then we have Jake with his closet which totally ruins all the film! I expected to see a BOOGEYMAN similar movie, and instead i watched a drama with some meaningless thriller spots.<br /><br />3 out of 10 just for the well playing parents & descent dialogs. As for the shots with Jake: just ignore them.\""
            ]
          },
          "execution_count": 8,
          "metadata": {},
          "output_type": "execute_result"
        }
      ],
      "source": [
        "data[\"review\"][3]"
      ]
    },
    {
      "cell_type": "markdown",
      "metadata": {
        "id": "csydbpnP8iks"
      },
      "source": [
        "1. lowercasing"
      ]
    },
    {
      "cell_type": "code",
      "execution_count": null,
      "metadata": {
        "id": "Q6BFyTZb8iku",
        "outputId": "703900c1-08e9-4672-d76d-c94be11cf00c"
      },
      "outputs": [
        {
          "data": {
            "text/plain": [
              "\"basically there's a family where a little boy (jake) thinks there's a zombie in his closet & his parents are fighting all the time.<br /><br />this movie is slower than a soap opera... and suddenly, jake decides to become rambo and kill the zombie.<br /><br />ok, first of all when you're going to make a film you must decide if its a thriller or a drama! as a drama the movie is watchable. parents are divorcing & arguing like in real life. and then we have jake with his closet which totally ruins all the film! i expected to see a boogeyman similar movie, and instead i watched a drama with some meaningless thriller spots.<br /><br />3 out of 10 just for the well playing parents & descent dialogs. as for the shots with jake: just ignore them.\""
            ]
          },
          "execution_count": 9,
          "metadata": {},
          "output_type": "execute_result"
        }
      ],
      "source": [
        "data[\"review\"][3].lower()"
      ]
    },
    {
      "cell_type": "code",
      "execution_count": null,
      "metadata": {
        "id": "Yvm8IeTr8ikv",
        "outputId": "25c1991e-255d-4ab6-88c4-8ebc3947f612"
      },
      "outputs": [
        {
          "data": {
            "text/plain": [
              "(50000, 2)"
            ]
          },
          "execution_count": 10,
          "metadata": {},
          "output_type": "execute_result"
        }
      ],
      "source": [
        "data.shape"
      ]
    },
    {
      "cell_type": "code",
      "execution_count": null,
      "metadata": {
        "id": "fBa1yb2I8ikw"
      },
      "outputs": [],
      "source": [
        "data[\"review\"]=data[\"review\"].str.lower()"
      ]
    },
    {
      "cell_type": "code",
      "execution_count": null,
      "metadata": {
        "id": "G4QPq4oP8ikw"
      },
      "outputs": [],
      "source": [
        "import re"
      ]
    },
    {
      "cell_type": "markdown",
      "metadata": {
        "id": "_r1I9wP58ikx"
      },
      "source": [
        "Regular expressions contain a series of characters that define a pattern of text to be matched"
      ]
    },
    {
      "cell_type": "code",
      "execution_count": null,
      "metadata": {
        "id": "-ECFFAmH8ikx"
      },
      "outputs": [],
      "source": [
        "def remove_html_tags(text):\n",
        "    pattern=re.compile('<.*?>')\n",
        "    return pattern.sub(\"\",text)"
      ]
    },
    {
      "cell_type": "code",
      "execution_count": null,
      "metadata": {
        "id": "YizgfGeI8iky"
      },
      "outputs": [],
      "source": [
        "text=\"\"\"<!DOCTYPE html><html lang=\"en\"><head><meta charset=\"UTF-8\"><meta http-equiv=\"X-UA-Compatible\" content=\"IE=edge\"><meta name=\"viewport\" content=\"width=device-width, initial-scale=1.0\"><title>Welcome to My Website</title><style>body{font-family:'Arial',sans-serif;background-color:#f0f0f0;color:#333;margin:20px}h1{color:#007bff}p{line-height:1.5}</style></head><body><header><h1>Welcome to My Awesome Website!</h1></header><main><p>This is a sample HTML document created for demonstration purposes.</p><p>Feel free to explore and enjoy the content on this website.</p></main><footer><p>&copy; 2024 My Website. All rights reserved.</p></footer></body></html>\"\"\"\n"
      ]
    },
    {
      "cell_type": "code",
      "execution_count": null,
      "metadata": {
        "id": "RsyrTePz8ikz",
        "outputId": "3c3d880a-0218-471a-db79-637e1a638e40"
      },
      "outputs": [
        {
          "data": {
            "text/plain": [
              "'<!DOCTYPE html><html lang=\"en\"><head><meta charset=\"UTF-8\"><meta http-equiv=\"X-UA-Compatible\" content=\"IE=edge\"><meta name=\"viewport\" content=\"width=device-width, initial-scale=1.0\"><title>Welcome to My Website</title><style>body{font-family:\\'Arial\\',sans-serif;background-color:#f0f0f0;color:#333;margin:20px}h1{color:#007bff}p{line-height:1.5}</style></head><body><header><h1>Welcome to My Awesome Website!</h1></header><main><p>This is a sample HTML document created for demonstration purposes.</p><p>Feel free to explore and enjoy the content on this website.</p></main><footer><p>&copy; 2024 My Website. All rights reserved.</p></footer></body></html>'"
            ]
          },
          "execution_count": 15,
          "metadata": {},
          "output_type": "execute_result"
        }
      ],
      "source": [
        "text"
      ]
    },
    {
      "cell_type": "code",
      "execution_count": null,
      "metadata": {
        "id": "uk0P_qc28ik0",
        "outputId": "1b2a96a5-40c4-4f37-a131-ec59819fb907"
      },
      "outputs": [
        {
          "data": {
            "text/plain": [
              "\"Welcome to My Websitebody{font-family:'Arial',sans-serif;background-color:#f0f0f0;color:#333;margin:20px}h1{color:#007bff}p{line-height:1.5}Welcome to My Awesome Website!This is a sample HTML document created for demonstration purposes.Feel free to explore and enjoy the content on this website.&copy; 2024 My Website. All rights reserved.\""
            ]
          },
          "execution_count": 16,
          "metadata": {},
          "output_type": "execute_result"
        }
      ],
      "source": [
        "remove_html_tags(text)"
      ]
    },
    {
      "cell_type": "code",
      "execution_count": null,
      "metadata": {
        "id": "57QbGGpg8ik0"
      },
      "outputs": [],
      "source": [
        "text=data[\"review\"][1]"
      ]
    },
    {
      "cell_type": "code",
      "execution_count": null,
      "metadata": {
        "id": "QRLTXI5Y8ik1",
        "outputId": "f1aa173c-5a99-4c63-e70b-0794cee148f9"
      },
      "outputs": [
        {
          "data": {
            "text/plain": [
              "'A wonderful little production. <br /><br />The filming technique is very unassuming- very old-time-BBC fashion and gives a comforting, and sometimes discomforting, sense of realism to the entire piece. <br /><br />The actors are extremely well chosen- Michael Sheen not only \"has got all the polari\" but he has all the voices down pat too! You can truly see the seamless editing guided by the references to Williams\\' diary entries, not only is it well worth the watching but it is a terrificly written and performed piece. A masterful production about one of the great master\\'s of comedy and his life. <br /><br />The realism really comes home with the little things: the fantasy of the guard which, rather than use the traditional \\'dream\\' techniques remains solid then disappears. It plays on our knowledge and our senses, particularly with the scenes concerning Orton and Halliwell and the sets (particularly of their flat with Halliwell\\'s murals decorating every surface) are terribly well done.'"
            ]
          },
          "execution_count": 31,
          "metadata": {},
          "output_type": "execute_result"
        }
      ],
      "source": [
        "text"
      ]
    },
    {
      "cell_type": "code",
      "execution_count": null,
      "metadata": {
        "id": "93QZr3nc8ik1",
        "outputId": "cc6750c6-3f21-465e-c37c-e38e142a2403"
      },
      "outputs": [
        {
          "data": {
            "text/plain": [
              "'A wonderful little production. The filming technique is very unassuming- very old-time-BBC fashion and gives a comforting, and sometimes discomforting, sense of realism to the entire piece. The actors are extremely well chosen- Michael Sheen not only \"has got all the polari\" but he has all the voices down pat too! You can truly see the seamless editing guided by the references to Williams\\' diary entries, not only is it well worth the watching but it is a terrificly written and performed piece. A masterful production about one of the great master\\'s of comedy and his life. The realism really comes home with the little things: the fantasy of the guard which, rather than use the traditional \\'dream\\' techniques remains solid then disappears. It plays on our knowledge and our senses, particularly with the scenes concerning Orton and Halliwell and the sets (particularly of their flat with Halliwell\\'s murals decorating every surface) are terribly well done.'"
            ]
          },
          "execution_count": 30,
          "metadata": {},
          "output_type": "execute_result"
        }
      ],
      "source": [
        "remove_html_tags(text)"
      ]
    },
    {
      "cell_type": "code",
      "execution_count": null,
      "metadata": {
        "id": "cu56G7dz8ik2"
      },
      "outputs": [],
      "source": [
        "data[\"review\"]=data[\"review\"].apply(remove_html_tags)"
      ]
    },
    {
      "cell_type": "code",
      "execution_count": null,
      "metadata": {
        "id": "v8VoHUgW8ik2",
        "outputId": "83b34f36-deeb-41fb-c6ee-a583cd4ef5fd"
      },
      "outputs": [
        {
          "data": {
            "text/plain": [
              "0        One of the other reviewers has mentioned that ...\n",
              "1        A wonderful little production. The filming tec...\n",
              "2        I thought this was a wonderful way to spend ti...\n",
              "3        Basically there's a family where a little boy ...\n",
              "4        Petter Mattei's \"Love in the Time of Money\" is...\n",
              "                               ...                        \n",
              "49995    I thought this movie did a down right good job...\n",
              "49996    Bad plot, bad dialogue, bad acting, idiotic di...\n",
              "49997    I am a Catholic taught in parochial elementary...\n",
              "49998    I'm going to have to disagree with the previou...\n",
              "49999    No one expects the Star Trek movies to be high...\n",
              "Name: review, Length: 50000, dtype: object"
            ]
          },
          "execution_count": 35,
          "metadata": {},
          "output_type": "execute_result"
        }
      ],
      "source": [
        "data[\"review\"]"
      ]
    },
    {
      "cell_type": "code",
      "execution_count": null,
      "metadata": {
        "id": "lD9XMNn88ik2",
        "outputId": "cb9a101b-1845-49b3-ff1c-8437ecfdc55c"
      },
      "outputs": [
        {
          "data": {
            "text/plain": [
              "0        one of the other reviewers has mentioned that ...\n",
              "1        a wonderful little production. the filming tec...\n",
              "2        i thought this was a wonderful way to spend ti...\n",
              "3        basically there's a family where a little boy ...\n",
              "4        petter mattei's \"love in the time of money\" is...\n",
              "                               ...                        \n",
              "49995    i thought this movie did a down right good job...\n",
              "49996    bad plot, bad dialogue, bad acting, idiotic di...\n",
              "49997    i am a catholic taught in parochial elementary...\n",
              "49998    i'm going to have to disagree with the previou...\n",
              "49999    no one expects the star trek movies to be high...\n",
              "Name: review, Length: 50000, dtype: object"
            ]
          },
          "execution_count": 37,
          "metadata": {},
          "output_type": "execute_result"
        }
      ],
      "source": [
        "data[\"review\"]"
      ]
    },
    {
      "cell_type": "code",
      "execution_count": null,
      "metadata": {
        "id": "_bOQrB-e8ik3"
      },
      "outputs": [],
      "source": [
        "def remove_url(text):\n",
        "    pattern=re.compile(r'https?://\\S+|www\\.\\S+')\n",
        "    return pattern.sub(\"\",text)"
      ]
    },
    {
      "cell_type": "code",
      "execution_count": null,
      "metadata": {
        "id": "GBhGkOJ38ik3",
        "outputId": "225282c7-3a60-4fb8-8c94-c35b17e55c2b"
      },
      "outputs": [
        {
          "data": {
            "text/plain": [
              "'checkout to my youtube channel '"
            ]
          },
          "execution_count": 20,
          "metadata": {},
          "output_type": "execute_result"
        }
      ],
      "source": [
        "remove_url(text1)"
      ]
    },
    {
      "cell_type": "code",
      "execution_count": null,
      "metadata": {
        "id": "jHQ1BtV_8ik4"
      },
      "outputs": [],
      "source": [
        "text1=\"checkout to my youtube channel https://www.youtube.com/watch?v=V9tJCQoBakA&t=225s\"\n",
        "text2=\"please try to google here www.google.com\"\n",
        "text3=\"here is my url which is not secure http://dummy.com\""
      ]
    },
    {
      "cell_type": "code",
      "execution_count": null,
      "metadata": {
        "id": "pR-NiRY68ik4"
      },
      "outputs": [],
      "source": [
        "import string"
      ]
    },
    {
      "cell_type": "code",
      "execution_count": null,
      "metadata": {
        "id": "Xt8yIhB58ik5",
        "outputId": "3b242e30-ff22-4983-eccc-2b8999dcb3c4"
      },
      "outputs": [
        {
          "data": {
            "text/plain": [
              "'!\"#$%&\\'()*+,-./:;<=>?@[\\\\]^_`{|}~'"
            ]
          },
          "execution_count": 23,
          "metadata": {},
          "output_type": "execute_result"
        }
      ],
      "source": [
        "string.punctuation"
      ]
    },
    {
      "cell_type": "code",
      "execution_count": null,
      "metadata": {
        "id": "fqmKlURl8ik5"
      },
      "outputs": [],
      "source": [
        "exclude=string.punctuation"
      ]
    },
    {
      "cell_type": "code",
      "execution_count": null,
      "metadata": {
        "id": "3oZDNYMn8ik5",
        "outputId": "6bef47db-60fc-402c-c3d1-2877143593b9"
      },
      "outputs": [
        {
          "name": "stdout",
          "output_type": "stream",
          "text": [
            "!\n",
            "\"\n",
            "#\n",
            "$\n",
            "%\n",
            "&\n",
            "'\n",
            "(\n",
            ")\n",
            "*\n",
            "+\n",
            ",\n",
            "-\n",
            ".\n",
            "/\n",
            ":\n",
            ";\n",
            "<\n",
            "=\n",
            ">\n",
            "?\n",
            "@\n",
            "[\n",
            "\\\n",
            "]\n",
            "^\n",
            "_\n",
            "`\n",
            "{\n",
            "|\n",
            "}\n",
            "~\n"
          ]
        }
      ],
      "source": [
        "for char in exclude:\n",
        "    print(char)"
      ]
    },
    {
      "cell_type": "code",
      "execution_count": null,
      "metadata": {
        "id": "mnCrXoZE8ik6"
      },
      "outputs": [],
      "source": [
        "def remove_punc(text):\n",
        "    for char in exclude:\n",
        "        text=text.replace(char,\"\")\n",
        "    return text"
      ]
    },
    {
      "cell_type": "code",
      "execution_count": null,
      "metadata": {
        "id": "-hLGbMv48ik6"
      },
      "outputs": [],
      "source": [
        "text=\"string @ *() with punctuaion.!\""
      ]
    },
    {
      "cell_type": "code",
      "execution_count": null,
      "metadata": {
        "id": "j8Z8Q0Tv8ik6",
        "outputId": "7d300c10-8f37-4b0b-b813-27e47e25d10f"
      },
      "outputs": [
        {
          "data": {
            "text/plain": [
              "'string   with punctuaion'"
            ]
          },
          "execution_count": 28,
          "metadata": {},
          "output_type": "execute_result"
        }
      ],
      "source": [
        "remove_punc(text)"
      ]
    },
    {
      "cell_type": "code",
      "execution_count": null,
      "metadata": {
        "id": "vqshgp5r8ik7"
      },
      "outputs": [],
      "source": [
        "text2=\"my name is s@nny sa##vita!!!!!!!!!\""
      ]
    },
    {
      "cell_type": "code",
      "execution_count": null,
      "metadata": {
        "id": "B4w2WvZJ8ik7",
        "outputId": "054f7dce-bdb5-45ee-fee2-8adee33bf9a4"
      },
      "outputs": [
        {
          "data": {
            "text/plain": [
              "'my name is snny savita'"
            ]
          },
          "execution_count": 30,
          "metadata": {},
          "output_type": "execute_result"
        }
      ],
      "source": [
        "remove_punc(text2)"
      ]
    },
    {
      "cell_type": "code",
      "execution_count": null,
      "metadata": {
        "id": "bsxPL9G78ik8"
      },
      "outputs": [],
      "source": [
        "def remove_punc1(text):\n",
        "    return text.translate(str.maketrans(\"\",\"\",exclude))"
      ]
    },
    {
      "cell_type": "code",
      "execution_count": null,
      "metadata": {
        "id": "jIdhvz2x8ik9",
        "outputId": "1c2db0f0-3c10-4033-8875-69eda9b37a95"
      },
      "outputs": [
        {
          "data": {
            "text/plain": [
              "'string   with punctuaion'"
            ]
          },
          "execution_count": 13,
          "metadata": {},
          "output_type": "execute_result"
        }
      ],
      "source": [
        "remove_punc1(text)"
      ]
    },
    {
      "cell_type": "code",
      "execution_count": null,
      "metadata": {
        "id": "_onBAfP28ik9"
      },
      "outputs": [],
      "source": [
        "data[\"review\"]=data[\"review\"].apply(remove_punc)"
      ]
    },
    {
      "cell_type": "code",
      "execution_count": null,
      "metadata": {
        "id": "IpsaosHR8ik9"
      },
      "outputs": [],
      "source": [
        "text=\"FYI this is not true\"\n",
        "text2=\"LAMO the class was so funny\"\n",
        "text3=\"i want report ASAP\""
      ]
    },
    {
      "cell_type": "code",
      "execution_count": null,
      "metadata": {
        "id": "h8Aggc7Y8ilD"
      },
      "outputs": [],
      "source": [
        "chat_words={\n",
        "   \" AFAIK\":\"As Far As I Know\",\n",
        "\"AFK\": \"Away From Keyboard\",\n",
        "\"ASAP\":\"As Soon As Possible\",\n",
        "\"BTW\":\"By The Way\",\n",
        "\"B4\":\"Before\",\n",
        "\"LAMO\":\"Laugh My A.. Off\",\n",
        "\"FYI\":\"For your information\"\n",
        "}"
      ]
    },
    {
      "cell_type": "code",
      "execution_count": null,
      "metadata": {
        "id": "-krN49-o8ilD",
        "outputId": "c3a89373-09f5-424e-fbde-c4cd9278aec0"
      },
      "outputs": [
        {
          "data": {
            "text/plain": [
              "'As Soon As Possible'"
            ]
          },
          "execution_count": 41,
          "metadata": {},
          "output_type": "execute_result"
        }
      ],
      "source": [
        "chat_words[\"ASAP\"]"
      ]
    },
    {
      "cell_type": "code",
      "execution_count": null,
      "metadata": {
        "id": "xwjf3M1v8ilD"
      },
      "outputs": [],
      "source": [
        "def chat_conversion(text):\n",
        "    new_text=[]\n",
        "    for w in text.split():\n",
        "        if w.upper() in chat_words:\n",
        "            new_text.append(chat_words[w.upper()])\n",
        "        else:\n",
        "            new_text.append(w)\n",
        "    return \" \".join(new_text)"
      ]
    },
    {
      "cell_type": "code",
      "execution_count": null,
      "metadata": {
        "id": "i9aUU-to8ilD",
        "outputId": "fa7e0c07-1b99-4f72-a6e8-271c05378894"
      },
      "outputs": [
        {
          "data": {
            "text/plain": [
              "'FYI this is not true'"
            ]
          },
          "execution_count": 38,
          "metadata": {},
          "output_type": "execute_result"
        }
      ],
      "source": [
        "text"
      ]
    },
    {
      "cell_type": "code",
      "execution_count": null,
      "metadata": {
        "id": "uQiI-vLl8ilE",
        "outputId": "a553a5c1-ea34-4746-b762-e5caa04edcdd"
      },
      "outputs": [
        {
          "data": {
            "text/plain": [
              "['FYI', 'this', 'is', 'not', 'true']"
            ]
          },
          "execution_count": 39,
          "metadata": {},
          "output_type": "execute_result"
        }
      ],
      "source": [
        "text.split()"
      ]
    },
    {
      "cell_type": "code",
      "execution_count": null,
      "metadata": {
        "id": "3XLD7R6o8ilE",
        "outputId": "56adecfd-15bb-4618-bffe-19bcd6e2760b"
      },
      "outputs": [
        {
          "name": "stdout",
          "output_type": "stream",
          "text": [
            "As Soon As Possible\n"
          ]
        }
      ],
      "source": [
        " for w in text3.split():\n",
        "        if w.upper() in chat_words:\n",
        "            print(chat_words[w.upper()])"
      ]
    },
    {
      "cell_type": "code",
      "execution_count": null,
      "metadata": {
        "id": "saRt_L3m8ilE",
        "outputId": "ac7c7ac6-c8ba-4372-e196-03e05620c4ce"
      },
      "outputs": [
        {
          "data": {
            "text/plain": [
              "'As Soon As Possible this is not true'"
            ]
          },
          "execution_count": 49,
          "metadata": {},
          "output_type": "execute_result"
        }
      ],
      "source": [
        "\" \".join([\"As Soon As Possible\", 'this', 'is', 'not', 'true'])"
      ]
    },
    {
      "cell_type": "code",
      "execution_count": null,
      "metadata": {
        "id": "eeOfYi9w8ilE",
        "outputId": "5e01a8b1-d661-4a27-9056-c154f9357f15"
      },
      "outputs": [
        {
          "data": {
            "text/plain": [
              "'For your information this is not true'"
            ]
          },
          "execution_count": 35,
          "metadata": {},
          "output_type": "execute_result"
        }
      ],
      "source": [
        "chat_conversion(text)"
      ]
    },
    {
      "cell_type": "code",
      "execution_count": null,
      "metadata": {
        "id": "A63Pg4TL8ilE",
        "outputId": "fa8a0355-12d4-4bf8-caf5-db5305b2d872"
      },
      "outputs": [
        {
          "data": {
            "text/plain": [
              "'Laugh My A.. Off the class was so funny'"
            ]
          },
          "execution_count": 36,
          "metadata": {},
          "output_type": "execute_result"
        }
      ],
      "source": [
        "chat_conversion(text2)"
      ]
    },
    {
      "cell_type": "code",
      "execution_count": null,
      "metadata": {
        "id": "_A9fog0C8ilF",
        "outputId": "869fa8b3-0653-4171-df2a-6f28574cba50"
      },
      "outputs": [
        {
          "data": {
            "text/plain": [
              "'i want report As Soon As Possible'"
            ]
          },
          "execution_count": 37,
          "metadata": {},
          "output_type": "execute_result"
        }
      ],
      "source": [
        "chat_conversion(text3)"
      ]
    },
    {
      "cell_type": "code",
      "execution_count": null,
      "metadata": {
        "id": "L1SbY_5V8ilF"
      },
      "outputs": [],
      "source": [
        "# spell correction"
      ]
    },
    {
      "cell_type": "code",
      "execution_count": null,
      "metadata": {
        "id": "4L9dv6bm8ilF"
      },
      "outputs": [],
      "source": [
        "text=\"this is my processing notebook pleae download this ntebook\""
      ]
    },
    {
      "cell_type": "code",
      "execution_count": null,
      "metadata": {
        "id": "O8wNMnWy8ilF"
      },
      "outputs": [],
      "source": [
        "textblob\n",
        "spacy\n",
        "nltk"
      ]
    },
    {
      "cell_type": "code",
      "execution_count": null,
      "metadata": {
        "id": "i40rLO3b8ilF"
      },
      "outputs": [],
      "source": [
        "import textblob"
      ]
    },
    {
      "cell_type": "code",
      "execution_count": null,
      "metadata": {
        "id": "SrDdDI1P8ilF"
      },
      "outputs": [],
      "source": [
        "from textblob import TextBlob"
      ]
    },
    {
      "cell_type": "code",
      "execution_count": null,
      "metadata": {
        "id": "5BuMU56n8ilG"
      },
      "outputs": [],
      "source": [
        "txtblob=TextBlob(text)"
      ]
    },
    {
      "cell_type": "code",
      "execution_count": null,
      "metadata": {
        "id": "i81Ck39X8ilG",
        "outputId": "4f2d88dc-48ff-4210-87ca-bcbdf31f0c5c"
      },
      "outputs": [
        {
          "data": {
            "text/plain": [
              "'this is my processing notebook please download this notebook'"
            ]
          },
          "execution_count": 57,
          "metadata": {},
          "output_type": "execute_result"
        }
      ],
      "source": [
        "txtblob.correct().string"
      ]
    },
    {
      "cell_type": "code",
      "execution_count": null,
      "metadata": {
        "id": "MX9ucgGX8ilG"
      },
      "outputs": [],
      "source": [
        "text2=\"here is my nme that is sny savita and he is good mntor\""
      ]
    },
    {
      "cell_type": "code",
      "execution_count": null,
      "metadata": {
        "id": "KpaGBq8N8ilG"
      },
      "outputs": [],
      "source": [
        "txtblob2=TextBlob(text2)"
      ]
    },
    {
      "cell_type": "code",
      "execution_count": null,
      "metadata": {
        "id": "Xoo4iyKR8ilG",
        "outputId": "a465189f-7084-4604-895c-38f0300aa68f"
      },
      "outputs": [
        {
          "data": {
            "text/plain": [
              "'here is my me that is any cavity and he is good motor'"
            ]
          },
          "execution_count": 60,
          "metadata": {},
          "output_type": "execute_result"
        }
      ],
      "source": [
        "txtblob2.correct().string"
      ]
    },
    {
      "cell_type": "code",
      "execution_count": null,
      "metadata": {
        "id": "1Bv6Ziht8ilH"
      },
      "outputs": [],
      "source": [
        "text3=\"I'm brav ad stong prson\""
      ]
    },
    {
      "cell_type": "code",
      "execution_count": null,
      "metadata": {
        "id": "LrCG9GOJ8ilH"
      },
      "outputs": [],
      "source": [
        "txtblob3=TextBlob(text3)"
      ]
    },
    {
      "cell_type": "code",
      "execution_count": null,
      "metadata": {
        "id": "FamNhuHO8ilH",
        "outputId": "4d40a00b-fdcd-4e5a-a915-84c51c2d7362"
      },
      "outputs": [
        {
          "data": {
            "text/plain": [
              "\"I'm brave ad strong person\""
            ]
          },
          "execution_count": 63,
          "metadata": {},
          "output_type": "execute_result"
        }
      ],
      "source": [
        "txtblob3.correct().string"
      ]
    },
    {
      "cell_type": "code",
      "execution_count": null,
      "metadata": {
        "id": "vpMDkKPN8ilH"
      },
      "outputs": [],
      "source": [
        "# stop word removing"
      ]
    },
    {
      "cell_type": "code",
      "execution_count": null,
      "metadata": {
        "id": "AWOMF1mw8ilH"
      },
      "outputs": [],
      "source": [
        "import nltk"
      ]
    },
    {
      "cell_type": "code",
      "execution_count": null,
      "metadata": {
        "id": "xJpvGByA8ilH"
      },
      "outputs": [],
      "source": [
        "from nltk.corpus import stopwords"
      ]
    },
    {
      "cell_type": "code",
      "execution_count": null,
      "metadata": {
        "id": "mq1n6B_B8ilI",
        "outputId": "e4cd659a-efd6-488e-bfe5-53f3f270bf3e"
      },
      "outputs": [
        {
          "name": "stderr",
          "output_type": "stream",
          "text": [
            "[nltk_data] Downloading package stopwords to /config/nltk_data...\n",
            "[nltk_data]   Unzipping corpora/stopwords.zip.\n"
          ]
        },
        {
          "data": {
            "text/plain": [
              "True"
            ]
          },
          "execution_count": 68,
          "metadata": {},
          "output_type": "execute_result"
        }
      ],
      "source": [
        "nltk.download('stopwords')"
      ]
    },
    {
      "cell_type": "code",
      "execution_count": null,
      "metadata": {
        "id": "Thk6M0I_8ilI",
        "outputId": "a7a69f83-4847-44a0-e6fa-bc17b718d0f2"
      },
      "outputs": [
        {
          "data": {
            "text/plain": [
              "['i',\n",
              " 'me',\n",
              " 'my',\n",
              " 'myself',\n",
              " 'we',\n",
              " 'our',\n",
              " 'ours',\n",
              " 'ourselves',\n",
              " 'you',\n",
              " \"you're\",\n",
              " \"you've\",\n",
              " \"you'll\",\n",
              " \"you'd\",\n",
              " 'your',\n",
              " 'yours',\n",
              " 'yourself',\n",
              " 'yourselves',\n",
              " 'he',\n",
              " 'him',\n",
              " 'his',\n",
              " 'himself',\n",
              " 'she',\n",
              " \"she's\",\n",
              " 'her',\n",
              " 'hers',\n",
              " 'herself',\n",
              " 'it',\n",
              " \"it's\",\n",
              " 'its',\n",
              " 'itself',\n",
              " 'they',\n",
              " 'them',\n",
              " 'their',\n",
              " 'theirs',\n",
              " 'themselves',\n",
              " 'what',\n",
              " 'which',\n",
              " 'who',\n",
              " 'whom',\n",
              " 'this',\n",
              " 'that',\n",
              " \"that'll\",\n",
              " 'these',\n",
              " 'those',\n",
              " 'am',\n",
              " 'is',\n",
              " 'are',\n",
              " 'was',\n",
              " 'were',\n",
              " 'be',\n",
              " 'been',\n",
              " 'being',\n",
              " 'have',\n",
              " 'has',\n",
              " 'had',\n",
              " 'having',\n",
              " 'do',\n",
              " 'does',\n",
              " 'did',\n",
              " 'doing',\n",
              " 'a',\n",
              " 'an',\n",
              " 'the',\n",
              " 'and',\n",
              " 'but',\n",
              " 'if',\n",
              " 'or',\n",
              " 'because',\n",
              " 'as',\n",
              " 'until',\n",
              " 'while',\n",
              " 'of',\n",
              " 'at',\n",
              " 'by',\n",
              " 'for',\n",
              " 'with',\n",
              " 'about',\n",
              " 'against',\n",
              " 'between',\n",
              " 'into',\n",
              " 'through',\n",
              " 'during',\n",
              " 'before',\n",
              " 'after',\n",
              " 'above',\n",
              " 'below',\n",
              " 'to',\n",
              " 'from',\n",
              " 'up',\n",
              " 'down',\n",
              " 'in',\n",
              " 'out',\n",
              " 'on',\n",
              " 'off',\n",
              " 'over',\n",
              " 'under',\n",
              " 'again',\n",
              " 'further',\n",
              " 'then',\n",
              " 'once',\n",
              " 'here',\n",
              " 'there',\n",
              " 'when',\n",
              " 'where',\n",
              " 'why',\n",
              " 'how',\n",
              " 'all',\n",
              " 'any',\n",
              " 'both',\n",
              " 'each',\n",
              " 'few',\n",
              " 'more',\n",
              " 'most',\n",
              " 'other',\n",
              " 'some',\n",
              " 'such',\n",
              " 'no',\n",
              " 'nor',\n",
              " 'not',\n",
              " 'only',\n",
              " 'own',\n",
              " 'same',\n",
              " 'so',\n",
              " 'than',\n",
              " 'too',\n",
              " 'very',\n",
              " 's',\n",
              " 't',\n",
              " 'can',\n",
              " 'will',\n",
              " 'just',\n",
              " 'don',\n",
              " \"don't\",\n",
              " 'should',\n",
              " \"should've\",\n",
              " 'now',\n",
              " 'd',\n",
              " 'll',\n",
              " 'm',\n",
              " 'o',\n",
              " 're',\n",
              " 've',\n",
              " 'y',\n",
              " 'ain',\n",
              " 'aren',\n",
              " \"aren't\",\n",
              " 'couldn',\n",
              " \"couldn't\",\n",
              " 'didn',\n",
              " \"didn't\",\n",
              " 'doesn',\n",
              " \"doesn't\",\n",
              " 'hadn',\n",
              " \"hadn't\",\n",
              " 'hasn',\n",
              " \"hasn't\",\n",
              " 'haven',\n",
              " \"haven't\",\n",
              " 'isn',\n",
              " \"isn't\",\n",
              " 'ma',\n",
              " 'mightn',\n",
              " \"mightn't\",\n",
              " 'mustn',\n",
              " \"mustn't\",\n",
              " 'needn',\n",
              " \"needn't\",\n",
              " 'shan',\n",
              " \"shan't\",\n",
              " 'shouldn',\n",
              " \"shouldn't\",\n",
              " 'wasn',\n",
              " \"wasn't\",\n",
              " 'weren',\n",
              " \"weren't\",\n",
              " 'won',\n",
              " \"won't\",\n",
              " 'wouldn',\n",
              " \"wouldn't\"]"
            ]
          },
          "execution_count": 69,
          "metadata": {},
          "output_type": "execute_result"
        }
      ],
      "source": [
        "stopwords.words(\"english\")"
      ]
    },
    {
      "cell_type": "code",
      "execution_count": null,
      "metadata": {
        "id": "O5ImBsW_8ilI"
      },
      "outputs": [],
      "source": [
        "def remove_stopwords(text):\n",
        "    new_text=[]\n",
        "\n",
        "    for word in text.split():\n",
        "        if word in stopwords.words(\"english\"):\n",
        "            new_text.append(\"\")\n",
        "        else:\n",
        "            new_text.append(word.strip())\n",
        "\n",
        "\n",
        "    return \" \".join(new_text).replace(\"   \",\"\")"
      ]
    },
    {
      "cell_type": "code",
      "execution_count": null,
      "metadata": {
        "id": "YBISWRZu8ilI"
      },
      "outputs": [],
      "source": [
        "text=\"i am sunny and we are learning nlp and here is why nlp are important\""
      ]
    },
    {
      "cell_type": "code",
      "execution_count": null,
      "metadata": {
        "id": "0Rt2Q0io8ilI",
        "outputId": "72401db2-37a5-4ad4-8c69-2c1c7dc25a81"
      },
      "outputs": [
        {
          "data": {
            "text/plain": [
              "'  sunny learning nlp  nlp  important'"
            ]
          },
          "execution_count": 99,
          "metadata": {},
          "output_type": "execute_result"
        }
      ],
      "source": [
        "remove_stopwords(text)"
      ]
    },
    {
      "cell_type": "code",
      "execution_count": null,
      "metadata": {
        "id": "vwQmzs2t8ilI"
      },
      "outputs": [],
      "source": [
        "def remove_stopwords(text):\n",
        "\n",
        "  new_text=[]\n",
        "  for word in text.split():\n",
        "    if word not in Stopword:\n",
        "      new_text.append(word)\n",
        "  return \" \".join(new_text)\n"
      ]
    },
    {
      "cell_type": "code",
      "execution_count": null,
      "metadata": {
        "id": "vN2kWT-e8ilJ"
      },
      "outputs": [],
      "source": [
        "# emoji\n",
        "\n",
        "import emoji\n"
      ]
    },
    {
      "cell_type": "code",
      "execution_count": null,
      "metadata": {
        "id": "No2UnKiN8ilJ"
      },
      "outputs": [],
      "source": [
        "original_text = \"Hello,😊 how are you today? 🌟\""
      ]
    },
    {
      "cell_type": "code",
      "execution_count": null,
      "metadata": {
        "id": "cL1roLNv8ilJ"
      },
      "outputs": [],
      "source": [
        "def remove_emoji(text):\n",
        "    clean_text=emoji.demojize(text)\n",
        "    return clean_text"
      ]
    },
    {
      "cell_type": "code",
      "execution_count": null,
      "metadata": {
        "id": "ouxPxBev8ilJ",
        "outputId": "845b37d8-a416-42e1-a263-b885bcf6ebd1"
      },
      "outputs": [
        {
          "data": {
            "text/plain": [
              "'Hello,:smiling_face_with_smiling_eyes: how are you today? :glowing_star:'"
            ]
          },
          "execution_count": 114,
          "metadata": {},
          "output_type": "execute_result"
        }
      ],
      "source": [
        "remove_emoji(original_text)"
      ]
    },
    {
      "cell_type": "code",
      "execution_count": null,
      "metadata": {
        "id": "FDtV8WuR8ilJ",
        "outputId": "86c03900-dec9-47b2-9c53-23be32c09782"
      },
      "outputs": [
        {
          "name": "stdout",
          "output_type": "stream",
          "text": [
            "True\n"
          ]
        }
      ],
      "source": [
        "print(emoji.is_emoji(\"👍\"))"
      ]
    },
    {
      "cell_type": "code",
      "execution_count": null,
      "metadata": {
        "id": "8OF3kSo38ilK",
        "outputId": "b139325a-71de-4759-fac3-c0f3145305de"
      },
      "outputs": [
        {
          "name": "stdout",
          "output_type": "stream",
          "text": [
            "False\n"
          ]
        }
      ],
      "source": [
        "print(emoji.is_emoji(\"thumb up\"))"
      ]
    },
    {
      "cell_type": "code",
      "execution_count": null,
      "metadata": {
        "id": "xRYxh0M-8ilK"
      },
      "outputs": [],
      "source": [
        "text=\"\"\"Hello, 😃💁😃💁 People\n",
        "•🐻🌻 Animals\n",
        "•🍔🍹 Food\n",
        "•🎷⚽ Activities\n",
        "•🚘🌇 Travel\n",
        "•💡🎉 Objects\n",
        "•💖🔣 Symbols\n",
        "•🎌🏳️‍🌈 Flags\"\"\"\n"
      ]
    },
    {
      "cell_type": "code",
      "execution_count": null,
      "metadata": {
        "id": "HNqKPxAo8ilK"
      },
      "outputs": [],
      "source": [
        "text2=\"🌟 Hello there! 🌈 I hope your day is filled with joy and positivity! 🌞 Just wanted to say that you're awesome! 🚀 Keep shining bright like the stars! ✨ If you need a virtual hug, here's one for you 🤗. Remember, you've got this! 💪 Sending good vibes your way! 🌌🌺🌟\"\n"
      ]
    },
    {
      "cell_type": "code",
      "execution_count": null,
      "metadata": {
        "id": "XvPKzn3A8ilK",
        "outputId": "a52ee969-be58-4340-f4fd-58c178389b69"
      },
      "outputs": [
        {
          "name": "stdout",
          "output_type": "stream",
          "text": [
            "Hello, :grinning_face_with_big_eyes::person_tipping_hand::grinning_face_with_big_eyes::person_tipping_hand: People\n",
            "•:bear::sunflower: Animals\n",
            "•:hamburger::tropical_drink: Food\n",
            "•:saxophone::soccer_ball: Activities\n",
            "•:oncoming_automobile::sunset: Travel\n",
            "•:light_bulb::party_popper: Objects\n",
            "•:sparkling_heart::input_symbols: Symbols\n",
            "•:crossed_flags::rainbow_flag: Flags\n"
          ]
        }
      ],
      "source": [
        "print(remove_emoji(text))"
      ]
    },
    {
      "cell_type": "code",
      "execution_count": null,
      "metadata": {
        "id": "OrTb9NcF8ilK",
        "outputId": "472fa3ba-3d36-4f8f-d703-b6718884adbe"
      },
      "outputs": [
        {
          "name": "stdout",
          "output_type": "stream",
          "text": [
            ":glowing_star: Hello there! :rainbow: I hope your day is filled with joy and positivity! :sun_with_face: Just wanted to say that you're awesome! :rocket: Keep shining bright like the stars! :sparkles: If you need a virtual hug, here's one for you :smiling_face_with_open_hands:. Remember, you've got this! :flexed_biceps: Sending good vibes your way! :milky_way::hibiscus::glowing_star:\n"
          ]
        }
      ],
      "source": [
        "print(remove_emoji(text2))"
      ]
    },
    {
      "cell_type": "code",
      "execution_count": null,
      "metadata": {
        "id": "DAPhOaXc8ilK"
      },
      "outputs": [],
      "source": [
        "text4=\"\"\"\n",
        "🌟 \"Hello there! Hope your day is as bright as the stars!\"\n",
        "🌈 \"Wishing you a colorful and joyful day ahead!\"\n",
        "🌸 \"Sending you virtual flowers to brighten your day!\"\n",
        "🎉 \"Celebrate every small victory! You deserve it!\"\n",
        "🤗 \"Virtual hug coming your way! You're not alone.\"\n",
        "🌞 \"Rise and shine! Make today amazing!\"\n",
        "🍀 \"Good luck on your endeavors! You've got this!\"\n",
        "🎈 \"Life is a party! Enjoy every moment!\"\n",
        "📚 \"Study hard and ace those exams! You're brilliant!\"\n",
        "🚀 \"Soar high and reach for the stars in all you do!\"\n",
        "\n",
        "\"\"\"\n"
      ]
    },
    {
      "cell_type": "code",
      "execution_count": null,
      "metadata": {
        "id": "c0PBTQFn8ilL",
        "outputId": "e66e1abf-6720-409e-936d-9c123f00f1b8"
      },
      "outputs": [
        {
          "name": "stdout",
          "output_type": "stream",
          "text": [
            "\n",
            ":glowing_star: \"Hello there! Hope your day is as bright as the stars!\"\n",
            ":rainbow: \"Wishing you a colorful and joyful day ahead!\"\n",
            ":cherry_blossom: \"Sending you virtual flowers to brighten your day!\"\n",
            ":party_popper: \"Celebrate every small victory! You deserve it!\"\n",
            ":smiling_face_with_open_hands: \"Virtual hug coming your way! You're not alone.\"\n",
            ":sun_with_face: \"Rise and shine! Make today amazing!\"\n",
            ":four_leaf_clover: \"Good luck on your endeavors! You've got this!\"\n",
            ":balloon: \"Life is a party! Enjoy every moment!\"\n",
            ":books: \"Study hard and ace those exams! You're brilliant!\"\n",
            ":rocket: \"Soar high and reach for the stars in all you do!\"\n",
            "\n",
            "\n"
          ]
        }
      ],
      "source": [
        "print(remove_emoji(text4))"
      ]
    },
    {
      "cell_type": "code",
      "execution_count": null,
      "metadata": {
        "id": "FrlwdkYn8ilL"
      },
      "outputs": [],
      "source": [
        "import re\n",
        "def remove_emojis_manually(text):\n",
        "    emoji_pattern = re.compile(\"[\"\n",
        "                               u\"\\U0001F600-\\U0001F64F\"  # emoticons\n",
        "                               u\"\\U0001F300-\\U0001F5FF\"  # symbols & pictographs\n",
        "                               u\"\\U0001F680-\\U0001F6FF\"  # transport & map symbols\n",
        "                               u\"\\U0001F700-\\U0001F77F\"  # alchemical symbols\n",
        "                               u\"\\U0001F780-\\U0001F7FF\"  # Geometric Shapes Extended\n",
        "                               u\"\\U0001F800-\\U0001F8FF\"  # Supplemental Arrows-C\n",
        "                               u\"\\U0001F900-\\U0001F9FF\"  # Supplemental Symbols and Pictographs\n",
        "                               u\"\\U0001FA00-\\U0001FA6F\"  # Chess Symbols\n",
        "                               u\"\\U0001FA70-\\U0001FAFF\"  # Symbols and Pictographs Extended-A\n",
        "                               u\"\\U00002702-\\U000027B0\"  # Dingbats\n",
        "                               u\"\\U000024C2-\\U0001F251\"\n",
        "                               \"]+\", flags=re.UNICODE)\n",
        "    clean_text = emoji_pattern.sub(r'', text)\n",
        "    return clean_text"
      ]
    },
    {
      "cell_type": "code",
      "execution_count": null,
      "metadata": {
        "id": "moq-0mBl8ilL",
        "outputId": "5b312478-cab2-4d77-cb01-80f971742e18"
      },
      "outputs": [
        {
          "name": "stdout",
          "output_type": "stream",
          "text": [
            "\n",
            " \"Hello there! Hope your day is as bright as the stars!\"\n",
            " \"Wishing you a colorful and joyful day ahead!\"\n",
            " \"Sending you virtual flowers to brighten your day!\"\n",
            " \"Celebrate every small victory! You deserve it!\"\n",
            " \"Virtual hug coming your way! You're not alone.\"\n",
            " \"Rise and shine! Make today amazing!\"\n",
            " \"Good luck on your endeavors! You've got this!\"\n",
            " \"Life is a party! Enjoy every moment!\"\n",
            " \"Study hard and ace those exams! You're brilliant!\"\n",
            " \"Soar high and reach for the stars in all you do!\"\n",
            "\n",
            "\n"
          ]
        }
      ],
      "source": [
        "print(remove_emojis_manually(text4))"
      ]
    },
    {
      "cell_type": "code",
      "execution_count": null,
      "metadata": {
        "id": "FX-37Z458ilL",
        "outputId": "74c723b5-67ce-4325-fe28-8a008272b809"
      },
      "outputs": [
        {
          "name": "stdout",
          "output_type": "stream",
          "text": [
            "Hello, how are you today? \n"
          ]
        }
      ],
      "source": [
        "print(remove_emojis_manually(original_text))"
      ]
    },
    {
      "cell_type": "code",
      "execution_count": null,
      "metadata": {
        "id": "GjMWSoe38ilL"
      },
      "outputs": [],
      "source": [
        "# tokenization"
      ]
    },
    {
      "cell_type": "code",
      "execution_count": null,
      "metadata": {
        "id": "ICUtR2LA8ilL"
      },
      "outputs": [],
      "source": [
        "# split is a simplest way\n",
        "\n",
        "# but lets say split is not working in that case you can with regular expression"
      ]
    },
    {
      "cell_type": "code",
      "execution_count": null,
      "metadata": {
        "id": "XmIdqhGb8ilM"
      },
      "outputs": [],
      "source": [
        "text=\"i am sunny savita ana working as a data scientist\""
      ]
    },
    {
      "cell_type": "code",
      "execution_count": null,
      "metadata": {
        "id": "MQ3kiFko8ilM",
        "outputId": "74cbf64e-729d-4ece-f793-faa8e6c7637a"
      },
      "outputs": [
        {
          "data": {
            "text/plain": [
              "['i',\n",
              " 'am',\n",
              " 'sunny',\n",
              " 'savita',\n",
              " 'ana',\n",
              " 'working',\n",
              " 'as',\n",
              " 'a',\n",
              " 'data',\n",
              " 'scientist']"
            ]
          },
          "execution_count": 133,
          "metadata": {},
          "output_type": "execute_result"
        }
      ],
      "source": [
        "text.split()"
      ]
    },
    {
      "cell_type": "code",
      "execution_count": null,
      "metadata": {
        "id": "R2Hm6awv8ilM"
      },
      "outputs": [],
      "source": [
        "text=\"i am sunny savita ana working as a data scientist. i live in banglore. i work in ineuron ai devlopment team\""
      ]
    },
    {
      "cell_type": "code",
      "execution_count": null,
      "metadata": {
        "id": "OgtrP-UY8ilM",
        "outputId": "ca836827-8fac-4226-fd59-851d4bd114bb"
      },
      "outputs": [
        {
          "data": {
            "text/plain": [
              "['i am sunny savita ana working as a data scientist',\n",
              " ' i live in banglore',\n",
              " ' i work in ineuron ai devlopment team']"
            ]
          },
          "execution_count": 135,
          "metadata": {},
          "output_type": "execute_result"
        }
      ],
      "source": [
        "text.split(\".\")"
      ]
    },
    {
      "cell_type": "code",
      "execution_count": null,
      "metadata": {
        "id": "TqfjQZm68ilM"
      },
      "outputs": [],
      "source": [
        "text3=\"i live in bangalore!!\""
      ]
    },
    {
      "cell_type": "code",
      "execution_count": null,
      "metadata": {
        "id": "i1WW-00h8ilM",
        "outputId": "631fad97-bfdc-40b4-bf1e-2b710f56613e"
      },
      "outputs": [
        {
          "data": {
            "text/plain": [
              "['i', 'live', 'in', 'bangalore!!']"
            ]
          },
          "execution_count": 137,
          "metadata": {},
          "output_type": "execute_result"
        }
      ],
      "source": [
        "text3.split()"
      ]
    },
    {
      "cell_type": "code",
      "execution_count": null,
      "metadata": {
        "id": "ut25m1Ht8ilM"
      },
      "outputs": [],
      "source": [
        "text4=\"where should i go? i habve 3 days hoilidays, Can you sugguest me?\""
      ]
    },
    {
      "cell_type": "code",
      "execution_count": null,
      "metadata": {
        "id": "pnPlFZYj8ilM",
        "outputId": "716f68a6-8cd5-4234-935c-3966de2bed46"
      },
      "outputs": [
        {
          "data": {
            "text/plain": [
              "['where should i go? i habve 3 days hoilidays, Can you sugguest me?']"
            ]
          },
          "execution_count": 140,
          "metadata": {},
          "output_type": "execute_result"
        }
      ],
      "source": [
        "text4.split(\".\")"
      ]
    },
    {
      "cell_type": "code",
      "execution_count": null,
      "metadata": {
        "id": "oRUjkt5w8ilN"
      },
      "outputs": [],
      "source": [
        "import re\n",
        "text3=\"i live in bangalore!!\""
      ]
    },
    {
      "cell_type": "code",
      "execution_count": null,
      "metadata": {
        "id": "yiXfmJid8ilN",
        "outputId": "b74f66fa-850c-4fec-c471-c6b9d384fdcb"
      },
      "outputs": [
        {
          "data": {
            "text/plain": [
              "['i', 'live', 'in', 'bangalore']"
            ]
          },
          "execution_count": 143,
          "metadata": {},
          "output_type": "execute_result"
        }
      ],
      "source": [
        "re.findall(\"[\\w]+\",text3)"
      ]
    },
    {
      "cell_type": "code",
      "execution_count": null,
      "metadata": {
        "id": "GtD5dbnH8ilN"
      },
      "outputs": [],
      "source": [
        "import nltk"
      ]
    },
    {
      "cell_type": "code",
      "execution_count": null,
      "metadata": {
        "id": "bKU3v1do8ilN"
      },
      "outputs": [],
      "source": [
        "from nltk.tokenize import word_tokenize,sent_tokenize"
      ]
    },
    {
      "cell_type": "code",
      "execution_count": null,
      "metadata": {
        "id": "yV72EZDM8ilN"
      },
      "outputs": [],
      "source": [
        "my_text=\"i am going to visit delhi tomorrow evening\""
      ]
    },
    {
      "cell_type": "code",
      "execution_count": null,
      "metadata": {
        "id": "vY4OHfLc8ilN",
        "outputId": "7c04881b-b6a4-4476-85d8-44a286f1af7e"
      },
      "outputs": [
        {
          "name": "stderr",
          "output_type": "stream",
          "text": [
            "[nltk_data] Downloading package punkt to /config/nltk_data...\n",
            "[nltk_data]   Unzipping tokenizers/punkt.zip.\n"
          ]
        },
        {
          "data": {
            "text/plain": [
              "True"
            ]
          },
          "execution_count": 148,
          "metadata": {},
          "output_type": "execute_result"
        }
      ],
      "source": [
        "nltk.download(\"punkt\")"
      ]
    },
    {
      "cell_type": "code",
      "execution_count": null,
      "metadata": {
        "id": "t3zL9HzR8ilO",
        "outputId": "6f1c5089-73ed-4b97-977b-c3e165fa5bc7"
      },
      "outputs": [
        {
          "data": {
            "text/plain": [
              "['i', 'am', 'going', 'to', 'visit', 'delhi', 'tomorrow', 'evening']"
            ]
          },
          "execution_count": 149,
          "metadata": {},
          "output_type": "execute_result"
        }
      ],
      "source": [
        "word_tokenize(my_text)"
      ]
    },
    {
      "cell_type": "code",
      "execution_count": null,
      "metadata": {
        "id": "WqP-M2hb8ilO"
      },
      "outputs": [],
      "source": [
        "my_text=\"i am going to visit delhi tomorrow evening!!!!\""
      ]
    },
    {
      "cell_type": "code",
      "execution_count": null,
      "metadata": {
        "id": "8ywTHqNW8ilO",
        "outputId": "ad3e823a-b680-4614-d671-0f6ae94100c3"
      },
      "outputs": [
        {
          "data": {
            "text/plain": [
              "['i',\n",
              " 'am',\n",
              " 'going',\n",
              " 'to',\n",
              " 'visit',\n",
              " 'delhi',\n",
              " 'tomorrow',\n",
              " 'evening',\n",
              " '!',\n",
              " '!',\n",
              " '!',\n",
              " '!']"
            ]
          },
          "execution_count": 151,
          "metadata": {},
          "output_type": "execute_result"
        }
      ],
      "source": [
        "word_tokenize(my_text)"
      ]
    },
    {
      "cell_type": "code",
      "execution_count": null,
      "metadata": {
        "id": "Lx-e0MUk8ilO"
      },
      "outputs": [],
      "source": [
        "my_corpus=\"\"\"Generative artificial intelligence (generative AI, genAI, GenAI, GAI or GenAI[1]) is artificial intelligence capable of generating text, images or other data using generative models,[2] often in response to prompts.[3][4] Generative AI models learn the patterns and structure of their input training data and then generate new data that has similar characteristics.[5][6]\n",
        "\n",
        "Improvements in transformer-based deep neural networks enabled an AI boom of generative AI systems in the early 2020s. These include large language model (LLM) chatbots such as ChatGPT, Copilot, Bard, and LLaMA, and text-to-image artificial intelligence art systems such as Stable Diffusion, Midjourney, and DALL-E.[7][8][9] Companies such as OpenAI, Anthropic, Microsoft, Google, and Baidu as well as numerous smaller firms have developed generative AI models.[3][10][11]\"\"\""
      ]
    },
    {
      "cell_type": "code",
      "execution_count": null,
      "metadata": {
        "id": "_aoWL_sN8ilO",
        "outputId": "3e0256c5-1270-4bda-9f3c-49adc4fdbb23"
      },
      "outputs": [
        {
          "data": {
            "text/plain": [
              "'Generative artificial intelligence (generative AI, genAI, GenAI, GAI or GenAI[1]) is artificial intelligence capable of generating text, images or other data using generative models,[2] often in response to prompts.[3][4] Generative AI models learn the patterns and structure of their input training data and then generate new data that has similar characteristics.[5][6]\\n\\nImprovements in transformer-based deep neural networks enabled an AI boom of generative AI systems in the early 2020s. These include large language model (LLM) chatbots such as ChatGPT, Copilot, Bard, and LLaMA, and text-to-image artificial intelligence art systems such as Stable Diffusion, Midjourney, and DALL-E.[7][8][9] Companies such as OpenAI, Anthropic, Microsoft, Google, and Baidu as well as numerous smaller firms have developed generative AI models.[3][10][11]'"
            ]
          },
          "execution_count": 153,
          "metadata": {},
          "output_type": "execute_result"
        }
      ],
      "source": [
        "my_corpus"
      ]
    },
    {
      "cell_type": "code",
      "execution_count": null,
      "metadata": {
        "id": "16RQYLYV8ilO",
        "outputId": "98e50a4a-7bdc-4b7a-ab19-53e81262ffe6"
      },
      "outputs": [
        {
          "data": {
            "text/plain": [
              "['Generative artificial intelligence (generative AI, genAI, GenAI, GAI or GenAI[1]) is artificial intelligence capable of generating text, images or other data using generative models,[2] often in response to prompts.',\n",
              " '[3][4] Generative AI models learn the patterns and structure of their input training data and then generate new data that has similar characteristics.',\n",
              " '[5][6]\\n\\nImprovements in transformer-based deep neural networks enabled an AI boom of generative AI systems in the early 2020s.',\n",
              " 'These include large language model (LLM) chatbots such as ChatGPT, Copilot, Bard, and LLaMA, and text-to-image artificial intelligence art systems such as Stable Diffusion, Midjourney, and DALL-E.[7][8][9] Companies such as OpenAI, Anthropic, Microsoft, Google, and Baidu as well as numerous smaller firms have developed generative AI models.',\n",
              " '[3][10][11]']"
            ]
          },
          "execution_count": 154,
          "metadata": {},
          "output_type": "execute_result"
        }
      ],
      "source": [
        "sent_tokenize(my_corpus)"
      ]
    },
    {
      "cell_type": "code",
      "execution_count": null,
      "metadata": {
        "id": "mrziAukP8ilO"
      },
      "outputs": [],
      "source": [
        "# we can do it by using nltk and even with spacy\n",
        "\n",
        "# split\n",
        "# regular expression(simple google)\n",
        "# nltk"
      ]
    },
    {
      "cell_type": "code",
      "execution_count": null,
      "metadata": {
        "id": "F1YHBIuB8ilP"
      },
      "outputs": [],
      "source": [
        "import spacy\n",
        "\n",
        "# Load the English NLP model from spacy\n",
        "nlp = spacy.load(\"en_core_web_sm\")"
      ]
    },
    {
      "cell_type": "code",
      "execution_count": null,
      "metadata": {
        "id": "ggywYhVR8ilP"
      },
      "outputs": [],
      "source": [
        "def tokenize_text(text):\n",
        "    # Process the text with the spacy model\n",
        "    doc = nlp(text)\n",
        "\n",
        "    # Extract tokens from the processed document\n",
        "    tokens = [token.text for token in doc]\n",
        "\n",
        "    return tokens"
      ]
    },
    {
      "cell_type": "code",
      "execution_count": null,
      "metadata": {
        "id": "fs_jiY8W8ilP"
      },
      "outputs": [],
      "source": [
        "tokens=tokenize_text(my_corpus)"
      ]
    },
    {
      "cell_type": "code",
      "execution_count": null,
      "metadata": {
        "id": "UnFYiNtu8ilP",
        "outputId": "e5d17cf8-1fec-4a02-f842-5980548ec064"
      },
      "outputs": [
        {
          "name": "stdout",
          "output_type": "stream",
          "text": [
            "Generative\n",
            "artificial\n",
            "intelligence\n",
            "(\n",
            "generative\n",
            "AI\n",
            ",\n",
            "genAI\n",
            ",\n",
            "GenAI\n",
            ",\n",
            "GAI\n",
            "or\n",
            "GenAI[1\n",
            "]\n",
            ")\n",
            "is\n",
            "artificial\n",
            "intelligence\n",
            "capable\n",
            "of\n",
            "generating\n",
            "text\n",
            ",\n",
            "images\n",
            "or\n",
            "other\n",
            "data\n",
            "using\n",
            "generative\n",
            "models,[2\n",
            "]\n",
            "often\n",
            "in\n",
            "response\n",
            "to\n",
            "prompts.[3][4\n",
            "]\n",
            "Generative\n",
            "AI\n",
            "models\n",
            "learn\n",
            "the\n",
            "patterns\n",
            "and\n",
            "structure\n",
            "of\n",
            "their\n",
            "input\n",
            "training\n",
            "data\n",
            "and\n",
            "then\n",
            "generate\n",
            "new\n",
            "data\n",
            "that\n",
            "has\n",
            "similar\n",
            "characteristics.[5][6\n",
            "]\n",
            "\n",
            "\n",
            "\n",
            "Improvements\n",
            "in\n",
            "transformer\n",
            "-\n",
            "based\n",
            "deep\n",
            "neural\n",
            "networks\n",
            "enabled\n",
            "an\n",
            "AI\n",
            "boom\n",
            "of\n",
            "generative\n",
            "AI\n",
            "systems\n",
            "in\n",
            "the\n",
            "early\n",
            "2020s\n",
            ".\n",
            "These\n",
            "include\n",
            "large\n",
            "language\n",
            "model\n",
            "(\n",
            "LLM\n",
            ")\n",
            "chatbots\n",
            "such\n",
            "as\n",
            "ChatGPT\n",
            ",\n",
            "Copilot\n",
            ",\n",
            "Bard\n",
            ",\n",
            "and\n",
            "LLaMA\n",
            ",\n",
            "and\n",
            "text\n",
            "-\n",
            "to\n",
            "-\n",
            "image\n",
            "artificial\n",
            "intelligence\n",
            "art\n",
            "systems\n",
            "such\n",
            "as\n",
            "Stable\n",
            "Diffusion\n",
            ",\n",
            "Midjourney\n",
            ",\n",
            "and\n",
            "DALL\n",
            "-\n",
            "E.[7][8][9\n",
            "]\n",
            "Companies\n",
            "such\n",
            "as\n",
            "OpenAI\n",
            ",\n",
            "Anthropic\n",
            ",\n",
            "Microsoft\n",
            ",\n",
            "Google\n",
            ",\n",
            "and\n",
            "Baidu\n",
            "as\n",
            "well\n",
            "as\n",
            "numerous\n",
            "smaller\n",
            "firms\n",
            "have\n",
            "developed\n",
            "generative\n",
            "AI\n",
            "models.[3][10][11\n",
            "]\n"
          ]
        }
      ],
      "source": [
        "for word in tokens:\n",
        "    print(word)"
      ]
    },
    {
      "cell_type": "code",
      "execution_count": null,
      "metadata": {
        "id": "QwX8B4F08ilP"
      },
      "outputs": [],
      "source": []
    },
    {
      "cell_type": "code",
      "execution_count": null,
      "metadata": {
        "id": "hKSVqVVs8ilP"
      },
      "outputs": [],
      "source": [
        "\n",
        "\n",
        "\n",
        "\n",
        "# Example usage:\n",
        "text = \"Spacy is a powerful natural language processing library.\"\n",
        "tokens = tokenize_text(text)\n",
        "\n",
        "print(f\"Original text: {text}\")\n",
        "print(f\"Tokens: {tokens}\")\n"
      ]
    },
    {
      "cell_type": "code",
      "execution_count": null,
      "metadata": {
        "id": "4LZliuz08ilP"
      },
      "outputs": [],
      "source": [
        "# stemming and lemmetization"
      ]
    },
    {
      "cell_type": "code",
      "execution_count": null,
      "metadata": {
        "id": "3Qm9PKVx8ilP"
      },
      "outputs": [],
      "source": [
        "from nltk.stem import PorterStemmer\n",
        "\n",
        "def stemming(text):\n",
        "    obj=PorterStemmer()\n",
        "\n",
        "    stem_word=[obj.stem(word) for word in text.split()]\n",
        "\n",
        "    return stem_word"
      ]
    },
    {
      "cell_type": "code",
      "execution_count": null,
      "metadata": {
        "id": "v8HnHgym8ilQ"
      },
      "outputs": [],
      "source": [
        "input_sentence = \"The quick brown foxes are jumping over the lazy dogs\""
      ]
    },
    {
      "cell_type": "code",
      "execution_count": null,
      "metadata": {
        "id": "lF7ruJ1C8ilQ",
        "outputId": "f381f732-c850-4240-c410-18c493b4242e"
      },
      "outputs": [
        {
          "data": {
            "text/plain": [
              "\"'Ikigai' by Hector Garcia and Francesc Miralles explores the Japanese concept of finding one's purpose in life by analyzing the habits and beliefs of the world's longest-living people. Through case studies, the book offers practical insights on how to live a more fulfilling life.\""
            ]
          },
          "execution_count": 184,
          "metadata": {},
          "output_type": "execute_result"
        }
      ],
      "source": [
        "text"
      ]
    },
    {
      "cell_type": "code",
      "execution_count": null,
      "metadata": {
        "id": "AXJIEOw98ilQ",
        "outputId": "f45ce3d9-76ad-4996-a067-07c50b2360b6"
      },
      "outputs": [
        {
          "data": {
            "text/plain": [
              "[\"'ikigai'\",\n",
              " 'by',\n",
              " 'hector',\n",
              " 'garcia',\n",
              " 'and',\n",
              " 'francesc',\n",
              " 'miral',\n",
              " 'explor',\n",
              " 'the',\n",
              " 'japanes',\n",
              " 'concept',\n",
              " 'of',\n",
              " 'find',\n",
              " \"one'\",\n",
              " 'purpos',\n",
              " 'in',\n",
              " 'life',\n",
              " 'by',\n",
              " 'analyz',\n",
              " 'the',\n",
              " 'habit',\n",
              " 'and',\n",
              " 'belief',\n",
              " 'of',\n",
              " 'the',\n",
              " \"world'\",\n",
              " 'longest-liv',\n",
              " 'people.',\n",
              " 'through',\n",
              " 'case',\n",
              " 'studies,',\n",
              " 'the',\n",
              " 'book',\n",
              " 'offer',\n",
              " 'practic',\n",
              " 'insight',\n",
              " 'on',\n",
              " 'how',\n",
              " 'to',\n",
              " 'live',\n",
              " 'a',\n",
              " 'more',\n",
              " 'fulfil',\n",
              " 'life.']"
            ]
          },
          "execution_count": 183,
          "metadata": {},
          "output_type": "execute_result"
        }
      ],
      "source": [
        "stemming(text)"
      ]
    },
    {
      "cell_type": "code",
      "execution_count": null,
      "metadata": {
        "id": "4ZMK1Icv8ilQ",
        "outputId": "40f4eada-c6d3-4b4a-d2ee-9c3e374010fe"
      },
      "outputs": [
        {
          "name": "stderr",
          "output_type": "stream",
          "text": [
            "[nltk_data] Downloading package wordnet to /config/nltk_data...\n"
          ]
        },
        {
          "data": {
            "text/plain": [
              "True"
            ]
          },
          "execution_count": 177,
          "metadata": {},
          "output_type": "execute_result"
        }
      ],
      "source": [
        "nltk.download('wordnet')"
      ]
    },
    {
      "cell_type": "code",
      "execution_count": null,
      "metadata": {
        "id": "8zczTP0Z8ilQ"
      },
      "outputs": [],
      "source": [
        "from nltk.stem import WordNetLemmatizer\n",
        "\n",
        "def lammatization(text):\n",
        "    words=text.split()\n",
        "\n",
        "    lemmetizer=WordNetLemmatizer()\n",
        "\n",
        "    lemetized_word=[lemmetizer.lemmatize(word) for word in words]\n",
        "\n",
        "    return lemetized_word"
      ]
    },
    {
      "cell_type": "code",
      "execution_count": null,
      "metadata": {
        "id": "Fh9E8px78ilQ"
      },
      "outputs": [],
      "source": [
        "text=\"'Ikigai' by Hector Garcia and Francesc Miralles explores the Japanese concept of finding one's purpose in life by analyzing the habits and beliefs of the world's longest-living people. Through case studies, the book offers practical insights on how to live a more fulfilling life.\""
      ]
    },
    {
      "cell_type": "code",
      "execution_count": null,
      "metadata": {
        "id": "6FSAm9Y_8ilQ",
        "outputId": "d718ba54-e33b-4fe0-f679-fe2ac4ad01a4"
      },
      "outputs": [
        {
          "data": {
            "text/plain": [
              "[\"'Ikigai'\",\n",
              " 'by',\n",
              " 'Hector',\n",
              " 'Garcia',\n",
              " 'and',\n",
              " 'Francesc',\n",
              " 'Miralles',\n",
              " 'explores',\n",
              " 'the',\n",
              " 'Japanese',\n",
              " 'concept',\n",
              " 'of',\n",
              " 'finding',\n",
              " \"one's\",\n",
              " 'purpose',\n",
              " 'in',\n",
              " 'life',\n",
              " 'by',\n",
              " 'analyzing',\n",
              " 'the',\n",
              " 'habit',\n",
              " 'and',\n",
              " 'belief',\n",
              " 'of',\n",
              " 'the',\n",
              " \"world's\",\n",
              " 'longest-living',\n",
              " 'people.',\n",
              " 'Through',\n",
              " 'case',\n",
              " 'studies,',\n",
              " 'the',\n",
              " 'book',\n",
              " 'offer',\n",
              " 'practical',\n",
              " 'insight',\n",
              " 'on',\n",
              " 'how',\n",
              " 'to',\n",
              " 'live',\n",
              " 'a',\n",
              " 'more',\n",
              " 'fulfilling',\n",
              " 'life.']"
            ]
          },
          "execution_count": 182,
          "metadata": {},
          "output_type": "execute_result"
        }
      ],
      "source": [
        "lammatization(text)"
      ]
    },
    {
      "cell_type": "code",
      "execution_count": null,
      "metadata": {
        "id": "yOdiv2Yi8ilR"
      },
      "outputs": [],
      "source": [
        "take a different senerio and work accoring to that\n",
        "\n"
      ]
    },
    {
      "cell_type": "code",
      "execution_count": null,
      "metadata": {
        "id": "9p_0yTut8ilR",
        "outputId": "64319c6a-6623-40e7-af11-39d68f06720b"
      },
      "outputs": [
        {
          "ename": "NameError",
          "evalue": "name 'tokenization' is not defined",
          "output_type": "error",
          "traceback": [
            "\u001b[0;31m---------------------------------------------------------------------------\u001b[0m",
            "\u001b[0;31mNameError\u001b[0m                                 Traceback (most recent call last)",
            "Cell \u001b[0;32mIn[187], line 1\u001b[0m\n\u001b[0;32m----> 1\u001b[0m \u001b[43mtokenization\u001b[49m\n\u001b[1;32m      2\u001b[0m lowercase\n\u001b[1;32m      3\u001b[0m uppercase\n",
            "\u001b[0;31mNameError\u001b[0m: name 'tokenization' is not defined"
          ]
        }
      ],
      "source": [
        "tokenization\n",
        "lowercase\n",
        "uppercase\n",
        "emojis\n",
        "pancuations\n",
        "html,url\n",
        "stopwords\n",
        "abbravation or slang\n",
        "steemming and lemmetization\n",
        "spelling correction\n",
        "whitspace\n",
        "\n",
        "did you get the idea how the clean the text:\n",
        "\n",
        "by next friday till 5 oclock\n",
        "\n",
        "\n",
        "\n"
      ]
    },
    {
      "cell_type": "code",
      "execution_count": null,
      "metadata": {
        "id": "dZ80BEUm8ilR"
      },
      "outputs": [],
      "source": []
    },
    {
      "cell_type": "code",
      "execution_count": null,
      "metadata": {
        "id": "niiyN6LN8ilR"
      },
      "outputs": [],
      "source": []
    },
    {
      "cell_type": "code",
      "execution_count": null,
      "metadata": {
        "id": "O342gV0X8ilS"
      },
      "outputs": [],
      "source": []
    }
  ],
  "metadata": {
    "kernelspec": {
      "display_name": "Python 3.9.13 ('base')",
      "language": "python",
      "name": "python3"
    },
    "language_info": {
      "codemirror_mode": {
        "name": "ipython",
        "version": 3
      },
      "file_extension": ".py",
      "mimetype": "text/x-python",
      "name": "python",
      "nbconvert_exporter": "python",
      "pygments_lexer": "ipython3",
      "version": "3.9.13"
    },
    "orig_nbformat": 4,
    "vscode": {
      "interpreter": {
        "hash": "ba7d6a92d9c7295bfdcfceb88786d0d9300abf0a1802f116b1f16ab64cdf39a0"
      }
    },
    "colab": {
      "provenance": [],
      "include_colab_link": true
    }
  },
  "nbformat": 4,
  "nbformat_minor": 0
}