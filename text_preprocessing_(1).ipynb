{
  "cells": [
    {
      "cell_type": "markdown",
      "metadata": {
        "id": "view-in-github",
        "colab_type": "text"
      },
      "source": [
        "<a href=\"https://colab.research.google.com/github/Jayaprada-devisetty/Gen-AI-Ineuron/blob/main/text_preprocessing_(1).ipynb\" target=\"_parent\"><img src=\"https://colab.research.google.com/assets/colab-badge.svg\" alt=\"Open In Colab\"/></a>"
      ]
    },
    {
      "cell_type": "code",
      "execution_count": null,
      "metadata": {
        "id": "lXkhUheAtJvZ",
        "outputId": "91fb84cc-4d04-432a-8ec3-01f996c6c121"
      },
      "outputs": [
        {
          "name": "stderr",
          "output_type": "stream",
          "text": [
            "/tmp/ipykernel_629/4080736814.py:1: DeprecationWarning: \n",
            "Pyarrow will become a required dependency of pandas in the next major release of pandas (pandas 3.0),\n",
            "(to allow more performant data types, such as the Arrow string type, and better interoperability with other libraries)\n",
            "but was not found to be installed on your system.\n",
            "If this would cause problems for you,\n",
            "please provide us feedback at https://github.com/pandas-dev/pandas/issues/54466\n",
            "        \n",
            "  import pandas as pd\n"
          ]
        }
      ],
      "source": [
        "import pandas as pd"
      ]
    },
    {
      "cell_type": "code",
      "execution_count": null,
      "metadata": {
        "id": "e3qJpy50tJvf"
      },
      "outputs": [],
      "source": [
        "data=pd.read_csv(\"https://raw.githubusercontent.com/Ankit152/IMDB-sentiment-analysis/master/IMDB-Dataset.csv\")"
      ]
    },
    {
      "cell_type": "code",
      "execution_count": null,
      "metadata": {
        "id": "NgUBE8sEtJvg",
        "outputId": "0646826f-1eac-4b98-a440-c665645be08c"
      },
      "outputs": [
        {
          "data": {
            "text/html": [
              "<div>\n",
              "<style scoped>\n",
              "    .dataframe tbody tr th:only-of-type {\n",
              "        vertical-align: middle;\n",
              "    }\n",
              "\n",
              "    .dataframe tbody tr th {\n",
              "        vertical-align: top;\n",
              "    }\n",
              "\n",
              "    .dataframe thead th {\n",
              "        text-align: right;\n",
              "    }\n",
              "</style>\n",
              "<table border=\"1\" class=\"dataframe\">\n",
              "  <thead>\n",
              "    <tr style=\"text-align: right;\">\n",
              "      <th></th>\n",
              "      <th>review</th>\n",
              "      <th>sentiment</th>\n",
              "    </tr>\n",
              "  </thead>\n",
              "  <tbody>\n",
              "    <tr>\n",
              "      <th>0</th>\n",
              "      <td>One of the other reviewers has mentioned that ...</td>\n",
              "      <td>positive</td>\n",
              "    </tr>\n",
              "    <tr>\n",
              "      <th>1</th>\n",
              "      <td>A wonderful little production. &lt;br /&gt;&lt;br /&gt;The...</td>\n",
              "      <td>positive</td>\n",
              "    </tr>\n",
              "    <tr>\n",
              "      <th>2</th>\n",
              "      <td>I thought this was a wonderful way to spend ti...</td>\n",
              "      <td>positive</td>\n",
              "    </tr>\n",
              "    <tr>\n",
              "      <th>3</th>\n",
              "      <td>Basically there's a family where a little boy ...</td>\n",
              "      <td>negative</td>\n",
              "    </tr>\n",
              "    <tr>\n",
              "      <th>4</th>\n",
              "      <td>Petter Mattei's \"Love in the Time of Money\" is...</td>\n",
              "      <td>positive</td>\n",
              "    </tr>\n",
              "  </tbody>\n",
              "</table>\n",
              "</div>"
            ],
            "text/plain": [
              "                                              review sentiment\n",
              "0  One of the other reviewers has mentioned that ...  positive\n",
              "1  A wonderful little production. <br /><br />The...  positive\n",
              "2  I thought this was a wonderful way to spend ti...  positive\n",
              "3  Basically there's a family where a little boy ...  negative\n",
              "4  Petter Mattei's \"Love in the Time of Money\" is...  positive"
            ]
          },
          "execution_count": 4,
          "metadata": {},
          "output_type": "execute_result"
        }
      ],
      "source": [
        "data.head()"
      ]
    },
    {
      "cell_type": "code",
      "execution_count": null,
      "metadata": {
        "id": "rWNDfV56tJvg",
        "outputId": "32b47921-b732-4eb5-d51a-7418b134f908"
      },
      "outputs": [
        {
          "data": {
            "text/html": [
              "<div>\n",
              "<style scoped>\n",
              "    .dataframe tbody tr th:only-of-type {\n",
              "        vertical-align: middle;\n",
              "    }\n",
              "\n",
              "    .dataframe tbody tr th {\n",
              "        vertical-align: top;\n",
              "    }\n",
              "\n",
              "    .dataframe thead th {\n",
              "        text-align: right;\n",
              "    }\n",
              "</style>\n",
              "<table border=\"1\" class=\"dataframe\">\n",
              "  <thead>\n",
              "    <tr style=\"text-align: right;\">\n",
              "      <th></th>\n",
              "      <th>review</th>\n",
              "      <th>sentiment</th>\n",
              "    </tr>\n",
              "  </thead>\n",
              "  <tbody>\n",
              "    <tr>\n",
              "      <th>49995</th>\n",
              "      <td>I thought this movie did a down right good job...</td>\n",
              "      <td>positive</td>\n",
              "    </tr>\n",
              "    <tr>\n",
              "      <th>49996</th>\n",
              "      <td>Bad plot, bad dialogue, bad acting, idiotic di...</td>\n",
              "      <td>negative</td>\n",
              "    </tr>\n",
              "    <tr>\n",
              "      <th>49997</th>\n",
              "      <td>I am a Catholic taught in parochial elementary...</td>\n",
              "      <td>negative</td>\n",
              "    </tr>\n",
              "    <tr>\n",
              "      <th>49998</th>\n",
              "      <td>I'm going to have to disagree with the previou...</td>\n",
              "      <td>negative</td>\n",
              "    </tr>\n",
              "    <tr>\n",
              "      <th>49999</th>\n",
              "      <td>No one expects the Star Trek movies to be high...</td>\n",
              "      <td>negative</td>\n",
              "    </tr>\n",
              "  </tbody>\n",
              "</table>\n",
              "</div>"
            ],
            "text/plain": [
              "                                                  review sentiment\n",
              "49995  I thought this movie did a down right good job...  positive\n",
              "49996  Bad plot, bad dialogue, bad acting, idiotic di...  negative\n",
              "49997  I am a Catholic taught in parochial elementary...  negative\n",
              "49998  I'm going to have to disagree with the previou...  negative\n",
              "49999  No one expects the Star Trek movies to be high...  negative"
            ]
          },
          "execution_count": 5,
          "metadata": {},
          "output_type": "execute_result"
        }
      ],
      "source": [
        "data.tail()"
      ]
    },
    {
      "cell_type": "code",
      "execution_count": null,
      "metadata": {
        "id": "b0R0RhkgtJvh",
        "outputId": "2cc9a2c1-cb71-4b08-c6ba-16266f4d94f7"
      },
      "outputs": [
        {
          "data": {
            "text/html": [
              "<div>\n",
              "<style scoped>\n",
              "    .dataframe tbody tr th:only-of-type {\n",
              "        vertical-align: middle;\n",
              "    }\n",
              "\n",
              "    .dataframe tbody tr th {\n",
              "        vertical-align: top;\n",
              "    }\n",
              "\n",
              "    .dataframe thead th {\n",
              "        text-align: right;\n",
              "    }\n",
              "</style>\n",
              "<table border=\"1\" class=\"dataframe\">\n",
              "  <thead>\n",
              "    <tr style=\"text-align: right;\">\n",
              "      <th></th>\n",
              "      <th>review</th>\n",
              "      <th>sentiment</th>\n",
              "    </tr>\n",
              "  </thead>\n",
              "  <tbody>\n",
              "    <tr>\n",
              "      <th>32116</th>\n",
              "      <td>I think this movie had really bad production v...</td>\n",
              "      <td>negative</td>\n",
              "    </tr>\n",
              "    <tr>\n",
              "      <th>36939</th>\n",
              "      <td>A pretty average scifi film. The plot was more...</td>\n",
              "      <td>negative</td>\n",
              "    </tr>\n",
              "    <tr>\n",
              "      <th>16949</th>\n",
              "      <td>I tried to like this movie. I love Kevin Space...</td>\n",
              "      <td>negative</td>\n",
              "    </tr>\n",
              "    <tr>\n",
              "      <th>47515</th>\n",
              "      <td>WARNING: PLOT SPOILER&lt;br /&gt;&lt;br /&gt;The always-ab...</td>\n",
              "      <td>positive</td>\n",
              "    </tr>\n",
              "    <tr>\n",
              "      <th>6932</th>\n",
              "      <td>This version of \"The Lost Horizon\" is actually...</td>\n",
              "      <td>positive</td>\n",
              "    </tr>\n",
              "  </tbody>\n",
              "</table>\n",
              "</div>"
            ],
            "text/plain": [
              "                                                  review sentiment\n",
              "32116  I think this movie had really bad production v...  negative\n",
              "36939  A pretty average scifi film. The plot was more...  negative\n",
              "16949  I tried to like this movie. I love Kevin Space...  negative\n",
              "47515  WARNING: PLOT SPOILER<br /><br />The always-ab...  positive\n",
              "6932   This version of \"The Lost Horizon\" is actually...  positive"
            ]
          },
          "execution_count": 6,
          "metadata": {},
          "output_type": "execute_result"
        }
      ],
      "source": [
        "data.sample(5)"
      ]
    },
    {
      "cell_type": "code",
      "execution_count": null,
      "metadata": {
        "id": "mbo2MoGDtJvh",
        "outputId": "f00207e3-1d20-4d0e-e37b-9bb8b43c58da"
      },
      "outputs": [
        {
          "data": {
            "text/plain": [
              "\"One of the other reviewers has mentioned that after watching just 1 Oz episode you'll be hooked. They are right, as this is exactly what happened with me.<br /><br />The first thing that struck me about Oz was its brutality and unflinching scenes of violence, which set in right from the word GO. Trust me, this is not a show for the faint hearted or timid. This show pulls no punches with regards to drugs, sex or violence. Its is hardcore, in the classic use of the word.<br /><br />It is called OZ as that is the nickname given to the Oswald Maximum Security State Penitentary. It focuses mainly on Emerald City, an experimental section of the prison where all the cells have glass fronts and face inwards, so privacy is not high on the agenda. Em City is home to many..Aryans, Muslims, gangstas, Latinos, Christians, Italians, Irish and more....so scuffles, death stares, dodgy dealings and shady agreements are never far away.<br /><br />I would say the main appeal of the show is due to the fact that it goes where other shows wouldn't dare. Forget pretty pictures painted for mainstream audiences, forget charm, forget romance...OZ doesn't mess around. The first episode I ever saw struck me as so nasty it was surreal, I couldn't say I was ready for it, but as I watched more, I developed a taste for Oz, and got accustomed to the high levels of graphic violence. Not just violence, but injustice (crooked guards who'll be sold out for a nickel, inmates who'll kill on order and get away with it, well mannered, middle class inmates being turned into prison bitches due to their lack of street skills or prison experience) Watching Oz, you may become comfortable with what is uncomfortable viewing....thats if you can get in touch with your darker side.\""
            ]
          },
          "execution_count": 7,
          "metadata": {},
          "output_type": "execute_result"
        }
      ],
      "source": [
        "data[\"review\"][0]"
      ]
    },
    {
      "cell_type": "code",
      "execution_count": null,
      "metadata": {
        "id": "lqcZAIlatJvh",
        "outputId": "91ff4e43-b2b0-4287-cddb-3887de7ab7ad"
      },
      "outputs": [
        {
          "data": {
            "text/plain": [
              "\"Basically there's a family where a little boy (Jake) thinks there's a zombie in his closet & his parents are fighting all the time.<br /><br />This movie is slower than a soap opera... and suddenly, Jake decides to become Rambo and kill the zombie.<br /><br />OK, first of all when you're going to make a film you must Decide if its a thriller or a drama! As a drama the movie is watchable. Parents are divorcing & arguing like in real life. And then we have Jake with his closet which totally ruins all the film! I expected to see a BOOGEYMAN similar movie, and instead i watched a drama with some meaningless thriller spots.<br /><br />3 out of 10 just for the well playing parents & descent dialogs. As for the shots with Jake: just ignore them.\""
            ]
          },
          "execution_count": 8,
          "metadata": {},
          "output_type": "execute_result"
        }
      ],
      "source": [
        "data[\"review\"][3]"
      ]
    },
    {
      "cell_type": "markdown",
      "metadata": {
        "id": "HUwkUODRtJvi"
      },
      "source": [
        "1. lowercasing"
      ]
    },
    {
      "cell_type": "code",
      "execution_count": null,
      "metadata": {
        "id": "YElvdBvjtJvj",
        "outputId": "8dd6c8ff-53c5-4889-eaa4-0902256d1809"
      },
      "outputs": [
        {
          "data": {
            "text/plain": [
              "\"basically there's a family where a little boy (jake) thinks there's a zombie in his closet & his parents are fighting all the time.<br /><br />this movie is slower than a soap opera... and suddenly, jake decides to become rambo and kill the zombie.<br /><br />ok, first of all when you're going to make a film you must decide if its a thriller or a drama! as a drama the movie is watchable. parents are divorcing & arguing like in real life. and then we have jake with his closet which totally ruins all the film! i expected to see a boogeyman similar movie, and instead i watched a drama with some meaningless thriller spots.<br /><br />3 out of 10 just for the well playing parents & descent dialogs. as for the shots with jake: just ignore them.\""
            ]
          },
          "execution_count": 9,
          "metadata": {},
          "output_type": "execute_result"
        }
      ],
      "source": [
        "data[\"review\"][3].lower()"
      ]
    },
    {
      "cell_type": "code",
      "execution_count": null,
      "metadata": {
        "id": "6yuc1HCotJvk",
        "outputId": "0654c702-a4e7-434e-afd2-dc71eb5815f2"
      },
      "outputs": [
        {
          "data": {
            "text/plain": [
              "(50000, 2)"
            ]
          },
          "execution_count": 10,
          "metadata": {},
          "output_type": "execute_result"
        }
      ],
      "source": [
        "data.shape"
      ]
    },
    {
      "cell_type": "code",
      "execution_count": null,
      "metadata": {
        "id": "ntHFgqzitJvm"
      },
      "outputs": [],
      "source": [
        "data[\"review\"]=data[\"review\"].str.lower()"
      ]
    },
    {
      "cell_type": "code",
      "execution_count": null,
      "metadata": {
        "id": "YX05FScotJvm"
      },
      "outputs": [],
      "source": [
        "import re"
      ]
    },
    {
      "cell_type": "markdown",
      "metadata": {
        "id": "UJi07fCPtJvn"
      },
      "source": [
        "Regular expressions contain a series of characters that define a pattern of text to be matched"
      ]
    },
    {
      "cell_type": "code",
      "execution_count": null,
      "metadata": {
        "id": "Z82aJ-a7tJvn"
      },
      "outputs": [],
      "source": [
        "def remove_html_tags(text):\n",
        "    pattern=re.compile('<.*?>')\n",
        "    return pattern.sub(\"\",text)"
      ]
    },
    {
      "cell_type": "code",
      "execution_count": null,
      "metadata": {
        "id": "Ui_JgvpHtJvo"
      },
      "outputs": [],
      "source": [
        "text=\"\"\"<!DOCTYPE html><html lang=\"en\"><head><meta charset=\"UTF-8\"><meta http-equiv=\"X-UA-Compatible\" content=\"IE=edge\"><meta name=\"viewport\" content=\"width=device-width, initial-scale=1.0\"><title>Welcome to My Website</title><style>body{font-family:'Arial',sans-serif;background-color:#f0f0f0;color:#333;margin:20px}h1{color:#007bff}p{line-height:1.5}</style></head><body><header><h1>Welcome to My Awesome Website!</h1></header><main><p>This is a sample HTML document created for demonstration purposes.</p><p>Feel free to explore and enjoy the content on this website.</p></main><footer><p>&copy; 2024 My Website. All rights reserved.</p></footer></body></html>\"\"\"\n"
      ]
    },
    {
      "cell_type": "code",
      "execution_count": null,
      "metadata": {
        "id": "SOUA23yFtJvo",
        "outputId": "33ef54b4-02b2-4fe5-b0da-1783b33c926c"
      },
      "outputs": [
        {
          "data": {
            "text/plain": [
              "'<!DOCTYPE html><html lang=\"en\"><head><meta charset=\"UTF-8\"><meta http-equiv=\"X-UA-Compatible\" content=\"IE=edge\"><meta name=\"viewport\" content=\"width=device-width, initial-scale=1.0\"><title>Welcome to My Website</title><style>body{font-family:\\'Arial\\',sans-serif;background-color:#f0f0f0;color:#333;margin:20px}h1{color:#007bff}p{line-height:1.5}</style></head><body><header><h1>Welcome to My Awesome Website!</h1></header><main><p>This is a sample HTML document created for demonstration purposes.</p><p>Feel free to explore and enjoy the content on this website.</p></main><footer><p>&copy; 2024 My Website. All rights reserved.</p></footer></body></html>'"
            ]
          },
          "execution_count": 15,
          "metadata": {},
          "output_type": "execute_result"
        }
      ],
      "source": [
        "text"
      ]
    },
    {
      "cell_type": "code",
      "execution_count": null,
      "metadata": {
        "id": "lXn0fxqftJvp",
        "outputId": "e81a064c-741e-4df5-8f13-b9f14bf7f7fb"
      },
      "outputs": [
        {
          "data": {
            "text/plain": [
              "\"Welcome to My Websitebody{font-family:'Arial',sans-serif;background-color:#f0f0f0;color:#333;margin:20px}h1{color:#007bff}p{line-height:1.5}Welcome to My Awesome Website!This is a sample HTML document created for demonstration purposes.Feel free to explore and enjoy the content on this website.&copy; 2024 My Website. All rights reserved.\""
            ]
          },
          "execution_count": 16,
          "metadata": {},
          "output_type": "execute_result"
        }
      ],
      "source": [
        "remove_html_tags(text)"
      ]
    },
    {
      "cell_type": "code",
      "execution_count": null,
      "metadata": {
        "id": "L4KWzqFctJvp"
      },
      "outputs": [],
      "source": [
        "text=data[\"review\"][1]"
      ]
    },
    {
      "cell_type": "code",
      "execution_count": null,
      "metadata": {
        "id": "QOchdwu-tJvp",
        "outputId": "f6b7648d-a6a5-46de-e674-7809d8d0753a"
      },
      "outputs": [
        {
          "data": {
            "text/plain": [
              "'A wonderful little production. <br /><br />The filming technique is very unassuming- very old-time-BBC fashion and gives a comforting, and sometimes discomforting, sense of realism to the entire piece. <br /><br />The actors are extremely well chosen- Michael Sheen not only \"has got all the polari\" but he has all the voices down pat too! You can truly see the seamless editing guided by the references to Williams\\' diary entries, not only is it well worth the watching but it is a terrificly written and performed piece. A masterful production about one of the great master\\'s of comedy and his life. <br /><br />The realism really comes home with the little things: the fantasy of the guard which, rather than use the traditional \\'dream\\' techniques remains solid then disappears. It plays on our knowledge and our senses, particularly with the scenes concerning Orton and Halliwell and the sets (particularly of their flat with Halliwell\\'s murals decorating every surface) are terribly well done.'"
            ]
          },
          "execution_count": 31,
          "metadata": {},
          "output_type": "execute_result"
        }
      ],
      "source": [
        "text"
      ]
    },
    {
      "cell_type": "code",
      "execution_count": null,
      "metadata": {
        "id": "Em7gRYwvtJvp",
        "outputId": "5d148b84-d9d0-4150-8c45-1490e30c1b5a"
      },
      "outputs": [
        {
          "data": {
            "text/plain": [
              "'A wonderful little production. The filming technique is very unassuming- very old-time-BBC fashion and gives a comforting, and sometimes discomforting, sense of realism to the entire piece. The actors are extremely well chosen- Michael Sheen not only \"has got all the polari\" but he has all the voices down pat too! You can truly see the seamless editing guided by the references to Williams\\' diary entries, not only is it well worth the watching but it is a terrificly written and performed piece. A masterful production about one of the great master\\'s of comedy and his life. The realism really comes home with the little things: the fantasy of the guard which, rather than use the traditional \\'dream\\' techniques remains solid then disappears. It plays on our knowledge and our senses, particularly with the scenes concerning Orton and Halliwell and the sets (particularly of their flat with Halliwell\\'s murals decorating every surface) are terribly well done.'"
            ]
          },
          "execution_count": 30,
          "metadata": {},
          "output_type": "execute_result"
        }
      ],
      "source": [
        "remove_html_tags(text)"
      ]
    },
    {
      "cell_type": "code",
      "execution_count": null,
      "metadata": {
        "id": "lKdB-HNytJvp"
      },
      "outputs": [],
      "source": [
        "data[\"review\"]=data[\"review\"].apply(remove_html_tags)"
      ]
    },
    {
      "cell_type": "code",
      "execution_count": null,
      "metadata": {
        "id": "LfKSMfDotJvq",
        "outputId": "0e3f1d4f-d9e5-4968-d5bd-a233b5c9d520"
      },
      "outputs": [
        {
          "data": {
            "text/plain": [
              "0        One of the other reviewers has mentioned that ...\n",
              "1        A wonderful little production. The filming tec...\n",
              "2        I thought this was a wonderful way to spend ti...\n",
              "3        Basically there's a family where a little boy ...\n",
              "4        Petter Mattei's \"Love in the Time of Money\" is...\n",
              "                               ...                        \n",
              "49995    I thought this movie did a down right good job...\n",
              "49996    Bad plot, bad dialogue, bad acting, idiotic di...\n",
              "49997    I am a Catholic taught in parochial elementary...\n",
              "49998    I'm going to have to disagree with the previou...\n",
              "49999    No one expects the Star Trek movies to be high...\n",
              "Name: review, Length: 50000, dtype: object"
            ]
          },
          "execution_count": 35,
          "metadata": {},
          "output_type": "execute_result"
        }
      ],
      "source": [
        "data[\"review\"]"
      ]
    },
    {
      "cell_type": "code",
      "execution_count": null,
      "metadata": {
        "id": "TzogTwqTtJvq",
        "outputId": "79ad14aa-34b0-47a2-e4e5-b7453d509363"
      },
      "outputs": [
        {
          "data": {
            "text/plain": [
              "0        one of the other reviewers has mentioned that ...\n",
              "1        a wonderful little production. the filming tec...\n",
              "2        i thought this was a wonderful way to spend ti...\n",
              "3        basically there's a family where a little boy ...\n",
              "4        petter mattei's \"love in the time of money\" is...\n",
              "                               ...                        \n",
              "49995    i thought this movie did a down right good job...\n",
              "49996    bad plot, bad dialogue, bad acting, idiotic di...\n",
              "49997    i am a catholic taught in parochial elementary...\n",
              "49998    i'm going to have to disagree with the previou...\n",
              "49999    no one expects the star trek movies to be high...\n",
              "Name: review, Length: 50000, dtype: object"
            ]
          },
          "execution_count": 37,
          "metadata": {},
          "output_type": "execute_result"
        }
      ],
      "source": [
        "data[\"review\"]"
      ]
    },
    {
      "cell_type": "code",
      "execution_count": null,
      "metadata": {
        "id": "nitvH-zAtJvq"
      },
      "outputs": [],
      "source": [
        "def remove_url(text):\n",
        "    pattern=re.compile(r'https?://\\S+|www\\.\\S+')\n",
        "    return pattern.sub(\"\",text)"
      ]
    },
    {
      "cell_type": "code",
      "execution_count": null,
      "metadata": {
        "id": "g0IQ1SfPtJvq",
        "outputId": "b97c8d7d-9b1f-4e75-9398-d92a6248e158"
      },
      "outputs": [
        {
          "data": {
            "text/plain": [
              "'checkout to my youtube channel '"
            ]
          },
          "execution_count": 20,
          "metadata": {},
          "output_type": "execute_result"
        }
      ],
      "source": [
        "remove_url(text1)"
      ]
    },
    {
      "cell_type": "code",
      "execution_count": null,
      "metadata": {
        "id": "IQjJ08BktJvq"
      },
      "outputs": [],
      "source": [
        "text1=\"checkout to my youtube channel https://www.youtube.com/watch?v=V9tJCQoBakA&t=225s\"\n",
        "text2=\"please try to google here www.google.com\"\n",
        "text3=\"here is my url which is not secure http://dummy.com\""
      ]
    },
    {
      "cell_type": "code",
      "execution_count": null,
      "metadata": {
        "id": "mdgmMj_JtJvq"
      },
      "outputs": [],
      "source": [
        "import string"
      ]
    },
    {
      "cell_type": "code",
      "execution_count": null,
      "metadata": {
        "id": "UX-Dw0tWtJvq",
        "outputId": "032267c5-3883-44ce-82fc-2404ae0cc37b"
      },
      "outputs": [
        {
          "data": {
            "text/plain": [
              "'!\"#$%&\\'()*+,-./:;<=>?@[\\\\]^_`{|}~'"
            ]
          },
          "execution_count": 23,
          "metadata": {},
          "output_type": "execute_result"
        }
      ],
      "source": [
        "string.punctuation"
      ]
    },
    {
      "cell_type": "code",
      "execution_count": null,
      "metadata": {
        "id": "hnYi4ayptJvr"
      },
      "outputs": [],
      "source": [
        "exclude=string.punctuation"
      ]
    },
    {
      "cell_type": "code",
      "execution_count": null,
      "metadata": {
        "id": "kr7cpgEDtJvr",
        "outputId": "5b5116d3-6569-4377-cda1-91f2e2503c35"
      },
      "outputs": [
        {
          "name": "stdout",
          "output_type": "stream",
          "text": [
            "!\n",
            "\"\n",
            "#\n",
            "$\n",
            "%\n",
            "&\n",
            "'\n",
            "(\n",
            ")\n",
            "*\n",
            "+\n",
            ",\n",
            "-\n",
            ".\n",
            "/\n",
            ":\n",
            ";\n",
            "<\n",
            "=\n",
            ">\n",
            "?\n",
            "@\n",
            "[\n",
            "\\\n",
            "]\n",
            "^\n",
            "_\n",
            "`\n",
            "{\n",
            "|\n",
            "}\n",
            "~\n"
          ]
        }
      ],
      "source": [
        "for char in exclude:\n",
        "    print(char)"
      ]
    },
    {
      "cell_type": "code",
      "execution_count": null,
      "metadata": {
        "id": "13x5cDlItJvr"
      },
      "outputs": [],
      "source": [
        "def remove_punc(text):\n",
        "    for char in exclude:\n",
        "        text=text.replace(char,\"\")\n",
        "    return text"
      ]
    },
    {
      "cell_type": "code",
      "execution_count": null,
      "metadata": {
        "id": "UnzeaaDItJvr"
      },
      "outputs": [],
      "source": [
        "text=\"string @ *() with punctuaion.!\""
      ]
    },
    {
      "cell_type": "code",
      "execution_count": null,
      "metadata": {
        "id": "dQp5AF5OtJvr",
        "outputId": "ab2ac30f-57ab-49b1-bed5-0a258a784f69"
      },
      "outputs": [
        {
          "data": {
            "text/plain": [
              "'string   with punctuaion'"
            ]
          },
          "execution_count": 28,
          "metadata": {},
          "output_type": "execute_result"
        }
      ],
      "source": [
        "remove_punc(text)"
      ]
    },
    {
      "cell_type": "code",
      "execution_count": null,
      "metadata": {
        "id": "XZHGIPadtJvr"
      },
      "outputs": [],
      "source": [
        "text2=\"my name is s@nny sa##vita!!!!!!!!!\""
      ]
    },
    {
      "cell_type": "code",
      "execution_count": null,
      "metadata": {
        "id": "Ga1pBYBRtJvs",
        "outputId": "22df05d0-b1c8-45cf-a12f-0fdd6f85281e"
      },
      "outputs": [
        {
          "data": {
            "text/plain": [
              "'my name is snny savita'"
            ]
          },
          "execution_count": 30,
          "metadata": {},
          "output_type": "execute_result"
        }
      ],
      "source": [
        "remove_punc(text2)"
      ]
    },
    {
      "cell_type": "code",
      "execution_count": null,
      "metadata": {
        "id": "ITMN2snatJvs"
      },
      "outputs": [],
      "source": [
        "def remove_punc1(text):\n",
        "    return text.translate(str.maketrans(\"\",\"\",exclude))"
      ]
    },
    {
      "cell_type": "code",
      "execution_count": null,
      "metadata": {
        "id": "bQrx3W_WtJvs",
        "outputId": "5a79c428-e174-48d0-b6dc-0af3ea443960"
      },
      "outputs": [
        {
          "data": {
            "text/plain": [
              "'string   with punctuaion'"
            ]
          },
          "execution_count": 13,
          "metadata": {},
          "output_type": "execute_result"
        }
      ],
      "source": [
        "remove_punc1(text)"
      ]
    },
    {
      "cell_type": "code",
      "execution_count": null,
      "metadata": {
        "id": "i0MgT_g1tJvs"
      },
      "outputs": [],
      "source": [
        "data[\"review\"]=data[\"review\"].apply(remove_punc)"
      ]
    },
    {
      "cell_type": "code",
      "execution_count": null,
      "metadata": {
        "id": "HBt2tch8tJvs"
      },
      "outputs": [],
      "source": [
        "text=\"FYI this is not true\"\n",
        "text2=\"LAMO the class was so funny\"\n",
        "text3=\"i want report ASAP\""
      ]
    },
    {
      "cell_type": "code",
      "execution_count": null,
      "metadata": {
        "id": "9Kvy3215tJvy"
      },
      "outputs": [],
      "source": [
        "chat_words={\n",
        "   \" AFAIK\":\"As Far As I Know\",\n",
        "\"AFK\": \"Away From Keyboard\",\n",
        "\"ASAP\":\"As Soon As Possible\",\n",
        "\"BTW\":\"By The Way\",\n",
        "\"B4\":\"Before\",\n",
        "\"LAMO\":\"Laugh My A.. Off\",\n",
        "\"FYI\":\"For your information\"\n",
        "}"
      ]
    },
    {
      "cell_type": "code",
      "execution_count": null,
      "metadata": {
        "id": "M7cGQu51tJvy",
        "outputId": "fc4a31da-1bdf-4201-a9f4-099ba1bb4307"
      },
      "outputs": [
        {
          "data": {
            "text/plain": [
              "'As Soon As Possible'"
            ]
          },
          "execution_count": 41,
          "metadata": {},
          "output_type": "execute_result"
        }
      ],
      "source": [
        "chat_words[\"ASAP\"]"
      ]
    },
    {
      "cell_type": "code",
      "execution_count": null,
      "metadata": {
        "id": "MAuYiwcttJvy"
      },
      "outputs": [],
      "source": [
        "def chat_conversion(text):\n",
        "    new_text=[]\n",
        "    for w in text.split():\n",
        "        if w.upper() in chat_words:\n",
        "            new_text.append(chat_words[w.upper()])\n",
        "        else:\n",
        "            new_text.append(w)\n",
        "    return \" \".join(new_text)"
      ]
    },
    {
      "cell_type": "code",
      "execution_count": null,
      "metadata": {
        "id": "Qt7MVptDtJvz",
        "outputId": "4d09e417-d6e8-4a28-d20a-7f089ee0aec0"
      },
      "outputs": [
        {
          "data": {
            "text/plain": [
              "'FYI this is not true'"
            ]
          },
          "execution_count": 38,
          "metadata": {},
          "output_type": "execute_result"
        }
      ],
      "source": [
        "text"
      ]
    },
    {
      "cell_type": "code",
      "execution_count": null,
      "metadata": {
        "id": "maWg7zvAtJvz",
        "outputId": "24450dfe-2f29-4b4c-9042-1c51fe428573"
      },
      "outputs": [
        {
          "data": {
            "text/plain": [
              "['FYI', 'this', 'is', 'not', 'true']"
            ]
          },
          "execution_count": 39,
          "metadata": {},
          "output_type": "execute_result"
        }
      ],
      "source": [
        "text.split()"
      ]
    },
    {
      "cell_type": "code",
      "execution_count": null,
      "metadata": {
        "id": "htgdWCxctJvz",
        "outputId": "9020780b-8667-459f-c1af-250a0682b0ad"
      },
      "outputs": [
        {
          "name": "stdout",
          "output_type": "stream",
          "text": [
            "As Soon As Possible\n"
          ]
        }
      ],
      "source": [
        " for w in text3.split():\n",
        "        if w.upper() in chat_words:\n",
        "            print(chat_words[w.upper()])"
      ]
    },
    {
      "cell_type": "code",
      "execution_count": null,
      "metadata": {
        "id": "xe2wzC_jtJvz",
        "outputId": "9a3847fd-8317-4bdd-8bbd-7e03039ba798"
      },
      "outputs": [
        {
          "data": {
            "text/plain": [
              "'As Soon As Possible this is not true'"
            ]
          },
          "execution_count": 49,
          "metadata": {},
          "output_type": "execute_result"
        }
      ],
      "source": [
        "\" \".join([\"As Soon As Possible\", 'this', 'is', 'not', 'true'])"
      ]
    },
    {
      "cell_type": "code",
      "execution_count": null,
      "metadata": {
        "id": "RAmvaSi0tJvz",
        "outputId": "32b98fc9-1742-4d1f-f70c-f2ec3b8d20d6"
      },
      "outputs": [
        {
          "data": {
            "text/plain": [
              "'For your information this is not true'"
            ]
          },
          "execution_count": 35,
          "metadata": {},
          "output_type": "execute_result"
        }
      ],
      "source": [
        "chat_conversion(text)"
      ]
    },
    {
      "cell_type": "code",
      "execution_count": null,
      "metadata": {
        "id": "f8BN_Vi9tJvz",
        "outputId": "3e837b8a-0ebd-43e3-f06c-0ce6fbdb09f2"
      },
      "outputs": [
        {
          "data": {
            "text/plain": [
              "'Laugh My A.. Off the class was so funny'"
            ]
          },
          "execution_count": 36,
          "metadata": {},
          "output_type": "execute_result"
        }
      ],
      "source": [
        "chat_conversion(text2)"
      ]
    },
    {
      "cell_type": "code",
      "execution_count": null,
      "metadata": {
        "id": "dnvDaM96tJv0",
        "outputId": "6c835df9-eaf7-4be8-b17f-dc6f8964c78d"
      },
      "outputs": [
        {
          "data": {
            "text/plain": [
              "'i want report As Soon As Possible'"
            ]
          },
          "execution_count": 37,
          "metadata": {},
          "output_type": "execute_result"
        }
      ],
      "source": [
        "chat_conversion(text3)"
      ]
    },
    {
      "cell_type": "code",
      "execution_count": null,
      "metadata": {
        "id": "kEXh75f1tJv0"
      },
      "outputs": [],
      "source": [
        "# spell correction"
      ]
    },
    {
      "cell_type": "code",
      "execution_count": null,
      "metadata": {
        "id": "FwXdcIhatJv0"
      },
      "outputs": [],
      "source": [
        "text=\"this is my processing notebook pleae download this ntebook\""
      ]
    },
    {
      "cell_type": "code",
      "execution_count": null,
      "metadata": {
        "id": "BlvpqoR1tJv0"
      },
      "outputs": [],
      "source": [
        "textblob\n",
        "spacy\n",
        "nltk"
      ]
    },
    {
      "cell_type": "code",
      "execution_count": null,
      "metadata": {
        "id": "CbEshk0FtJv0"
      },
      "outputs": [],
      "source": [
        "import textblob"
      ]
    },
    {
      "cell_type": "code",
      "execution_count": null,
      "metadata": {
        "id": "DUjOJqdxtJv0"
      },
      "outputs": [],
      "source": [
        "from textblob import TextBlob"
      ]
    },
    {
      "cell_type": "code",
      "execution_count": null,
      "metadata": {
        "id": "9wrqy4zKtJv1"
      },
      "outputs": [],
      "source": [
        "txtblob=TextBlob(text)"
      ]
    },
    {
      "cell_type": "code",
      "execution_count": null,
      "metadata": {
        "id": "Yr_JAIfHtJv1",
        "outputId": "07eb1f58-bebd-4a38-f635-435af1c68363"
      },
      "outputs": [
        {
          "data": {
            "text/plain": [
              "'this is my processing notebook please download this notebook'"
            ]
          },
          "execution_count": 57,
          "metadata": {},
          "output_type": "execute_result"
        }
      ],
      "source": [
        "txtblob.correct().string"
      ]
    },
    {
      "cell_type": "code",
      "execution_count": null,
      "metadata": {
        "id": "zIIeyLGLtJv2"
      },
      "outputs": [],
      "source": [
        "text2=\"here is my nme that is sny savita and he is good mntor\""
      ]
    },
    {
      "cell_type": "code",
      "execution_count": null,
      "metadata": {
        "id": "UJc_bfbitJv2"
      },
      "outputs": [],
      "source": [
        "txtblob2=TextBlob(text2)"
      ]
    },
    {
      "cell_type": "code",
      "execution_count": null,
      "metadata": {
        "id": "5S5pAWq5tJv2",
        "outputId": "72becdb4-d874-4cd6-b639-9e7ba93129a0"
      },
      "outputs": [
        {
          "data": {
            "text/plain": [
              "'here is my me that is any cavity and he is good motor'"
            ]
          },
          "execution_count": 60,
          "metadata": {},
          "output_type": "execute_result"
        }
      ],
      "source": [
        "txtblob2.correct().string"
      ]
    },
    {
      "cell_type": "code",
      "execution_count": null,
      "metadata": {
        "id": "kwk134A4tJv3"
      },
      "outputs": [],
      "source": [
        "text3=\"I'm brav ad stong prson\""
      ]
    },
    {
      "cell_type": "code",
      "execution_count": null,
      "metadata": {
        "id": "7neJ_mlXtJv3"
      },
      "outputs": [],
      "source": [
        "txtblob3=TextBlob(text3)"
      ]
    },
    {
      "cell_type": "code",
      "execution_count": null,
      "metadata": {
        "id": "P7ZYE2Z0tJv4",
        "outputId": "9fa6244b-2753-4424-c927-a10046390d63"
      },
      "outputs": [
        {
          "data": {
            "text/plain": [
              "\"I'm brave ad strong person\""
            ]
          },
          "execution_count": 63,
          "metadata": {},
          "output_type": "execute_result"
        }
      ],
      "source": [
        "txtblob3.correct().string"
      ]
    },
    {
      "cell_type": "code",
      "execution_count": null,
      "metadata": {
        "id": "JLoihxsFtJv4"
      },
      "outputs": [],
      "source": [
        "# stop word removing"
      ]
    },
    {
      "cell_type": "code",
      "execution_count": null,
      "metadata": {
        "id": "L_hM_44jtJv4"
      },
      "outputs": [],
      "source": [
        "import nltk"
      ]
    },
    {
      "cell_type": "code",
      "execution_count": null,
      "metadata": {
        "id": "DqeCMXKitJv4"
      },
      "outputs": [],
      "source": [
        "from nltk.corpus import stopwords"
      ]
    },
    {
      "cell_type": "code",
      "execution_count": null,
      "metadata": {
        "id": "m-b6FeabtJv5",
        "outputId": "98cc3252-7fc5-470e-87a4-99c4d6e638f9"
      },
      "outputs": [
        {
          "name": "stderr",
          "output_type": "stream",
          "text": [
            "[nltk_data] Downloading package stopwords to /config/nltk_data...\n",
            "[nltk_data]   Unzipping corpora/stopwords.zip.\n"
          ]
        },
        {
          "data": {
            "text/plain": [
              "True"
            ]
          },
          "execution_count": 68,
          "metadata": {},
          "output_type": "execute_result"
        }
      ],
      "source": [
        "nltk.download('stopwords')"
      ]
    },
    {
      "cell_type": "code",
      "execution_count": null,
      "metadata": {
        "id": "GVXxNNk9tJv5",
        "outputId": "637e48d3-90b9-47cb-88c1-ee5e92d592ca"
      },
      "outputs": [
        {
          "data": {
            "text/plain": [
              "['i',\n",
              " 'me',\n",
              " 'my',\n",
              " 'myself',\n",
              " 'we',\n",
              " 'our',\n",
              " 'ours',\n",
              " 'ourselves',\n",
              " 'you',\n",
              " \"you're\",\n",
              " \"you've\",\n",
              " \"you'll\",\n",
              " \"you'd\",\n",
              " 'your',\n",
              " 'yours',\n",
              " 'yourself',\n",
              " 'yourselves',\n",
              " 'he',\n",
              " 'him',\n",
              " 'his',\n",
              " 'himself',\n",
              " 'she',\n",
              " \"she's\",\n",
              " 'her',\n",
              " 'hers',\n",
              " 'herself',\n",
              " 'it',\n",
              " \"it's\",\n",
              " 'its',\n",
              " 'itself',\n",
              " 'they',\n",
              " 'them',\n",
              " 'their',\n",
              " 'theirs',\n",
              " 'themselves',\n",
              " 'what',\n",
              " 'which',\n",
              " 'who',\n",
              " 'whom',\n",
              " 'this',\n",
              " 'that',\n",
              " \"that'll\",\n",
              " 'these',\n",
              " 'those',\n",
              " 'am',\n",
              " 'is',\n",
              " 'are',\n",
              " 'was',\n",
              " 'were',\n",
              " 'be',\n",
              " 'been',\n",
              " 'being',\n",
              " 'have',\n",
              " 'has',\n",
              " 'had',\n",
              " 'having',\n",
              " 'do',\n",
              " 'does',\n",
              " 'did',\n",
              " 'doing',\n",
              " 'a',\n",
              " 'an',\n",
              " 'the',\n",
              " 'and',\n",
              " 'but',\n",
              " 'if',\n",
              " 'or',\n",
              " 'because',\n",
              " 'as',\n",
              " 'until',\n",
              " 'while',\n",
              " 'of',\n",
              " 'at',\n",
              " 'by',\n",
              " 'for',\n",
              " 'with',\n",
              " 'about',\n",
              " 'against',\n",
              " 'between',\n",
              " 'into',\n",
              " 'through',\n",
              " 'during',\n",
              " 'before',\n",
              " 'after',\n",
              " 'above',\n",
              " 'below',\n",
              " 'to',\n",
              " 'from',\n",
              " 'up',\n",
              " 'down',\n",
              " 'in',\n",
              " 'out',\n",
              " 'on',\n",
              " 'off',\n",
              " 'over',\n",
              " 'under',\n",
              " 'again',\n",
              " 'further',\n",
              " 'then',\n",
              " 'once',\n",
              " 'here',\n",
              " 'there',\n",
              " 'when',\n",
              " 'where',\n",
              " 'why',\n",
              " 'how',\n",
              " 'all',\n",
              " 'any',\n",
              " 'both',\n",
              " 'each',\n",
              " 'few',\n",
              " 'more',\n",
              " 'most',\n",
              " 'other',\n",
              " 'some',\n",
              " 'such',\n",
              " 'no',\n",
              " 'nor',\n",
              " 'not',\n",
              " 'only',\n",
              " 'own',\n",
              " 'same',\n",
              " 'so',\n",
              " 'than',\n",
              " 'too',\n",
              " 'very',\n",
              " 's',\n",
              " 't',\n",
              " 'can',\n",
              " 'will',\n",
              " 'just',\n",
              " 'don',\n",
              " \"don't\",\n",
              " 'should',\n",
              " \"should've\",\n",
              " 'now',\n",
              " 'd',\n",
              " 'll',\n",
              " 'm',\n",
              " 'o',\n",
              " 're',\n",
              " 've',\n",
              " 'y',\n",
              " 'ain',\n",
              " 'aren',\n",
              " \"aren't\",\n",
              " 'couldn',\n",
              " \"couldn't\",\n",
              " 'didn',\n",
              " \"didn't\",\n",
              " 'doesn',\n",
              " \"doesn't\",\n",
              " 'hadn',\n",
              " \"hadn't\",\n",
              " 'hasn',\n",
              " \"hasn't\",\n",
              " 'haven',\n",
              " \"haven't\",\n",
              " 'isn',\n",
              " \"isn't\",\n",
              " 'ma',\n",
              " 'mightn',\n",
              " \"mightn't\",\n",
              " 'mustn',\n",
              " \"mustn't\",\n",
              " 'needn',\n",
              " \"needn't\",\n",
              " 'shan',\n",
              " \"shan't\",\n",
              " 'shouldn',\n",
              " \"shouldn't\",\n",
              " 'wasn',\n",
              " \"wasn't\",\n",
              " 'weren',\n",
              " \"weren't\",\n",
              " 'won',\n",
              " \"won't\",\n",
              " 'wouldn',\n",
              " \"wouldn't\"]"
            ]
          },
          "execution_count": 69,
          "metadata": {},
          "output_type": "execute_result"
        }
      ],
      "source": [
        "stopwords.words(\"english\")"
      ]
    },
    {
      "cell_type": "code",
      "execution_count": null,
      "metadata": {
        "id": "2eVXkYfLtJv5"
      },
      "outputs": [],
      "source": [
        "def remove_stopwords(text):\n",
        "    new_text=[]\n",
        "\n",
        "    for word in text.split():\n",
        "        if word in stopwords.words(\"english\"):\n",
        "            new_text.append(\"\")\n",
        "        else:\n",
        "            new_text.append(word.strip())\n",
        "\n",
        "\n",
        "    return \" \".join(new_text).replace(\"   \",\"\")"
      ]
    },
    {
      "cell_type": "code",
      "execution_count": null,
      "metadata": {
        "id": "YhxT2NsVtJv5"
      },
      "outputs": [],
      "source": [
        "text=\"i am sunny and we are learning nlp and here is why nlp are important\""
      ]
    },
    {
      "cell_type": "code",
      "execution_count": null,
      "metadata": {
        "id": "PrCKL4Q_tJv6",
        "outputId": "55c4473a-09ae-44ab-951f-90043878e396"
      },
      "outputs": [
        {
          "data": {
            "text/plain": [
              "'  sunny learning nlp  nlp  important'"
            ]
          },
          "execution_count": 99,
          "metadata": {},
          "output_type": "execute_result"
        }
      ],
      "source": [
        "remove_stopwords(text)"
      ]
    },
    {
      "cell_type": "code",
      "execution_count": null,
      "metadata": {
        "id": "Han7eGo6tJv6"
      },
      "outputs": [],
      "source": [
        "def remove_stopwords(text):\n",
        "\n",
        "  new_text=[]\n",
        "  for word in text.split():\n",
        "    if word not in Stopword:\n",
        "      new_text.append(word)\n",
        "  return \" \".join(new_text)\n"
      ]
    },
    {
      "cell_type": "code",
      "execution_count": null,
      "metadata": {
        "id": "MJMZ9LF0tJv6"
      },
      "outputs": [],
      "source": [
        "# emoji\n",
        "\n",
        "import emoji\n"
      ]
    },
    {
      "cell_type": "code",
      "execution_count": null,
      "metadata": {
        "id": "TCcCTu96tJv6"
      },
      "outputs": [],
      "source": [
        "original_text = \"Hello,😊 how are you today? 🌟\""
      ]
    },
    {
      "cell_type": "code",
      "execution_count": null,
      "metadata": {
        "id": "cwJ07SfFtJv7"
      },
      "outputs": [],
      "source": [
        "def remove_emoji(text):\n",
        "    clean_text=emoji.demojize(text)\n",
        "    return clean_text"
      ]
    },
    {
      "cell_type": "code",
      "execution_count": null,
      "metadata": {
        "id": "Q7f_-6zTtJv7",
        "outputId": "12d41d05-4c0c-42fa-cb7f-a1c957862831"
      },
      "outputs": [
        {
          "data": {
            "text/plain": [
              "'Hello,:smiling_face_with_smiling_eyes: how are you today? :glowing_star:'"
            ]
          },
          "execution_count": 114,
          "metadata": {},
          "output_type": "execute_result"
        }
      ],
      "source": [
        "remove_emoji(original_text)"
      ]
    },
    {
      "cell_type": "code",
      "execution_count": null,
      "metadata": {
        "id": "i8den-FbtJv8",
        "outputId": "769001c8-4e09-45e1-954c-8b1eed16746b"
      },
      "outputs": [
        {
          "name": "stdout",
          "output_type": "stream",
          "text": [
            "True\n"
          ]
        }
      ],
      "source": [
        "print(emoji.is_emoji(\"👍\"))"
      ]
    },
    {
      "cell_type": "code",
      "execution_count": null,
      "metadata": {
        "id": "2FOkD1-2tJv8",
        "outputId": "948e90dd-e873-43f0-c56a-d3e934ab83dc"
      },
      "outputs": [
        {
          "name": "stdout",
          "output_type": "stream",
          "text": [
            "False\n"
          ]
        }
      ],
      "source": [
        "print(emoji.is_emoji(\"thumb up\"))"
      ]
    },
    {
      "cell_type": "code",
      "execution_count": null,
      "metadata": {
        "id": "OTp02j84tJv9"
      },
      "outputs": [],
      "source": [
        "text=\"\"\"Hello, 😃💁😃💁 People\n",
        "•🐻🌻 Animals\n",
        "•🍔🍹 Food\n",
        "•🎷⚽ Activities\n",
        "•🚘🌇 Travel\n",
        "•💡🎉 Objects\n",
        "•💖🔣 Symbols\n",
        "•🎌🏳️‍🌈 Flags\"\"\"\n"
      ]
    },
    {
      "cell_type": "code",
      "execution_count": null,
      "metadata": {
        "id": "WwX26rsctJv9"
      },
      "outputs": [],
      "source": [
        "text2=\"🌟 Hello there! 🌈 I hope your day is filled with joy and positivity! 🌞 Just wanted to say that you're awesome! 🚀 Keep shining bright like the stars! ✨ If you need a virtual hug, here's one for you 🤗. Remember, you've got this! 💪 Sending good vibes your way! 🌌🌺🌟\"\n"
      ]
    },
    {
      "cell_type": "code",
      "execution_count": null,
      "metadata": {
        "id": "L2vL-t4TtJv9",
        "outputId": "6eb61ed3-0971-4e5f-f289-89632459e096"
      },
      "outputs": [
        {
          "name": "stdout",
          "output_type": "stream",
          "text": [
            "Hello, :grinning_face_with_big_eyes::person_tipping_hand::grinning_face_with_big_eyes::person_tipping_hand: People\n",
            "•:bear::sunflower: Animals\n",
            "•:hamburger::tropical_drink: Food\n",
            "•:saxophone::soccer_ball: Activities\n",
            "•:oncoming_automobile::sunset: Travel\n",
            "•:light_bulb::party_popper: Objects\n",
            "•:sparkling_heart::input_symbols: Symbols\n",
            "•:crossed_flags::rainbow_flag: Flags\n"
          ]
        }
      ],
      "source": [
        "print(remove_emoji(text))"
      ]
    },
    {
      "cell_type": "code",
      "execution_count": null,
      "metadata": {
        "id": "i17sVyi-tJv-",
        "outputId": "2ed1574b-9cc6-4eda-c11e-bac9b9392e56"
      },
      "outputs": [
        {
          "name": "stdout",
          "output_type": "stream",
          "text": [
            ":glowing_star: Hello there! :rainbow: I hope your day is filled with joy and positivity! :sun_with_face: Just wanted to say that you're awesome! :rocket: Keep shining bright like the stars! :sparkles: If you need a virtual hug, here's one for you :smiling_face_with_open_hands:. Remember, you've got this! :flexed_biceps: Sending good vibes your way! :milky_way::hibiscus::glowing_star:\n"
          ]
        }
      ],
      "source": [
        "print(remove_emoji(text2))"
      ]
    },
    {
      "cell_type": "code",
      "execution_count": null,
      "metadata": {
        "id": "Z-FgBAb6tJv-"
      },
      "outputs": [],
      "source": [
        "text4=\"\"\"\n",
        "🌟 \"Hello there! Hope your day is as bright as the stars!\"\n",
        "🌈 \"Wishing you a colorful and joyful day ahead!\"\n",
        "🌸 \"Sending you virtual flowers to brighten your day!\"\n",
        "🎉 \"Celebrate every small victory! You deserve it!\"\n",
        "🤗 \"Virtual hug coming your way! You're not alone.\"\n",
        "🌞 \"Rise and shine! Make today amazing!\"\n",
        "🍀 \"Good luck on your endeavors! You've got this!\"\n",
        "🎈 \"Life is a party! Enjoy every moment!\"\n",
        "📚 \"Study hard and ace those exams! You're brilliant!\"\n",
        "🚀 \"Soar high and reach for the stars in all you do!\"\n",
        "\n",
        "\"\"\"\n"
      ]
    },
    {
      "cell_type": "code",
      "execution_count": null,
      "metadata": {
        "id": "-OHOrmpatJv-",
        "outputId": "c76aaddc-3a29-45bd-f17d-f9f418b21527"
      },
      "outputs": [
        {
          "name": "stdout",
          "output_type": "stream",
          "text": [
            "\n",
            ":glowing_star: \"Hello there! Hope your day is as bright as the stars!\"\n",
            ":rainbow: \"Wishing you a colorful and joyful day ahead!\"\n",
            ":cherry_blossom: \"Sending you virtual flowers to brighten your day!\"\n",
            ":party_popper: \"Celebrate every small victory! You deserve it!\"\n",
            ":smiling_face_with_open_hands: \"Virtual hug coming your way! You're not alone.\"\n",
            ":sun_with_face: \"Rise and shine! Make today amazing!\"\n",
            ":four_leaf_clover: \"Good luck on your endeavors! You've got this!\"\n",
            ":balloon: \"Life is a party! Enjoy every moment!\"\n",
            ":books: \"Study hard and ace those exams! You're brilliant!\"\n",
            ":rocket: \"Soar high and reach for the stars in all you do!\"\n",
            "\n",
            "\n"
          ]
        }
      ],
      "source": [
        "print(remove_emoji(text4))"
      ]
    },
    {
      "cell_type": "code",
      "execution_count": null,
      "metadata": {
        "id": "nn3EXTdxtJv-"
      },
      "outputs": [],
      "source": [
        "import re\n",
        "def remove_emojis_manually(text):\n",
        "    emoji_pattern = re.compile(\"[\"\n",
        "                               u\"\\U0001F600-\\U0001F64F\"  # emoticons\n",
        "                               u\"\\U0001F300-\\U0001F5FF\"  # symbols & pictographs\n",
        "                               u\"\\U0001F680-\\U0001F6FF\"  # transport & map symbols\n",
        "                               u\"\\U0001F700-\\U0001F77F\"  # alchemical symbols\n",
        "                               u\"\\U0001F780-\\U0001F7FF\"  # Geometric Shapes Extended\n",
        "                               u\"\\U0001F800-\\U0001F8FF\"  # Supplemental Arrows-C\n",
        "                               u\"\\U0001F900-\\U0001F9FF\"  # Supplemental Symbols and Pictographs\n",
        "                               u\"\\U0001FA00-\\U0001FA6F\"  # Chess Symbols\n",
        "                               u\"\\U0001FA70-\\U0001FAFF\"  # Symbols and Pictographs Extended-A\n",
        "                               u\"\\U00002702-\\U000027B0\"  # Dingbats\n",
        "                               u\"\\U000024C2-\\U0001F251\"\n",
        "                               \"]+\", flags=re.UNICODE)\n",
        "    clean_text = emoji_pattern.sub(r'', text)\n",
        "    return clean_text"
      ]
    },
    {
      "cell_type": "code",
      "execution_count": null,
      "metadata": {
        "id": "YCnvGbrPtJv-",
        "outputId": "389222a3-7b91-4647-e6de-7f18ca3db8c6"
      },
      "outputs": [
        {
          "name": "stdout",
          "output_type": "stream",
          "text": [
            "\n",
            " \"Hello there! Hope your day is as bright as the stars!\"\n",
            " \"Wishing you a colorful and joyful day ahead!\"\n",
            " \"Sending you virtual flowers to brighten your day!\"\n",
            " \"Celebrate every small victory! You deserve it!\"\n",
            " \"Virtual hug coming your way! You're not alone.\"\n",
            " \"Rise and shine! Make today amazing!\"\n",
            " \"Good luck on your endeavors! You've got this!\"\n",
            " \"Life is a party! Enjoy every moment!\"\n",
            " \"Study hard and ace those exams! You're brilliant!\"\n",
            " \"Soar high and reach for the stars in all you do!\"\n",
            "\n",
            "\n"
          ]
        }
      ],
      "source": [
        "print(remove_emojis_manually(text4))"
      ]
    },
    {
      "cell_type": "code",
      "execution_count": null,
      "metadata": {
        "id": "lBI6O8GRtJv-",
        "outputId": "5cbcf39c-c144-47cf-d920-adf440940090"
      },
      "outputs": [
        {
          "name": "stdout",
          "output_type": "stream",
          "text": [
            "Hello, how are you today? \n"
          ]
        }
      ],
      "source": [
        "print(remove_emojis_manually(original_text))"
      ]
    },
    {
      "cell_type": "code",
      "execution_count": null,
      "metadata": {
        "id": "qerOjJWutJv_"
      },
      "outputs": [],
      "source": [
        "# tokenization"
      ]
    },
    {
      "cell_type": "code",
      "execution_count": null,
      "metadata": {
        "id": "uBLF0RBVtJv_"
      },
      "outputs": [],
      "source": [
        "# split is a simplest way\n",
        "\n",
        "# but lets say split is not working in that case you can with regular expression"
      ]
    },
    {
      "cell_type": "code",
      "execution_count": null,
      "metadata": {
        "id": "pEuBb0t4tJv_"
      },
      "outputs": [],
      "source": [
        "text=\"i am sunny savita ana working as a data scientist\""
      ]
    },
    {
      "cell_type": "code",
      "execution_count": null,
      "metadata": {
        "id": "57riOAXYtJv_",
        "outputId": "355d1644-0209-4e67-ccce-44fd06193438"
      },
      "outputs": [
        {
          "data": {
            "text/plain": [
              "['i',\n",
              " 'am',\n",
              " 'sunny',\n",
              " 'savita',\n",
              " 'ana',\n",
              " 'working',\n",
              " 'as',\n",
              " 'a',\n",
              " 'data',\n",
              " 'scientist']"
            ]
          },
          "execution_count": 133,
          "metadata": {},
          "output_type": "execute_result"
        }
      ],
      "source": [
        "text.split()"
      ]
    },
    {
      "cell_type": "code",
      "execution_count": null,
      "metadata": {
        "id": "7tDSmlBdtJv_"
      },
      "outputs": [],
      "source": [
        "text=\"i am sunny savita ana working as a data scientist. i live in banglore. i work in ineuron ai devlopment team\""
      ]
    },
    {
      "cell_type": "code",
      "execution_count": null,
      "metadata": {
        "id": "o_Jo00f0tJv_",
        "outputId": "e6cc06fb-bd0e-453c-fa1e-947dd0f91594"
      },
      "outputs": [
        {
          "data": {
            "text/plain": [
              "['i am sunny savita ana working as a data scientist',\n",
              " ' i live in banglore',\n",
              " ' i work in ineuron ai devlopment team']"
            ]
          },
          "execution_count": 135,
          "metadata": {},
          "output_type": "execute_result"
        }
      ],
      "source": [
        "text.split(\".\")"
      ]
    },
    {
      "cell_type": "code",
      "execution_count": null,
      "metadata": {
        "id": "n4C7G7ZTtJwA"
      },
      "outputs": [],
      "source": [
        "text3=\"i live in bangalore!!\""
      ]
    },
    {
      "cell_type": "code",
      "execution_count": null,
      "metadata": {
        "id": "-mlJ5s3ktJwA",
        "outputId": "93b32db7-40eb-455e-f3de-da203642b9c7"
      },
      "outputs": [
        {
          "data": {
            "text/plain": [
              "['i', 'live', 'in', 'bangalore!!']"
            ]
          },
          "execution_count": 137,
          "metadata": {},
          "output_type": "execute_result"
        }
      ],
      "source": [
        "text3.split()"
      ]
    },
    {
      "cell_type": "code",
      "execution_count": null,
      "metadata": {
        "id": "-TDf05MstJwA"
      },
      "outputs": [],
      "source": [
        "text4=\"where should i go? i habve 3 days hoilidays, Can you sugguest me?\""
      ]
    },
    {
      "cell_type": "code",
      "execution_count": null,
      "metadata": {
        "id": "Tp8g_RCvtJwA",
        "outputId": "d8125975-c58b-4015-ad87-3bfcfd43a2a8"
      },
      "outputs": [
        {
          "data": {
            "text/plain": [
              "['where should i go? i habve 3 days hoilidays, Can you sugguest me?']"
            ]
          },
          "execution_count": 140,
          "metadata": {},
          "output_type": "execute_result"
        }
      ],
      "source": [
        "text4.split(\".\")"
      ]
    },
    {
      "cell_type": "code",
      "execution_count": null,
      "metadata": {
        "id": "JKeytrKstJwA"
      },
      "outputs": [],
      "source": [
        "import re\n",
        "text3=\"i live in bangalore!!\""
      ]
    },
    {
      "cell_type": "code",
      "execution_count": null,
      "metadata": {
        "id": "adZFIq7atJwA",
        "outputId": "d823587c-afbd-44a9-9710-29cfc5a5260a"
      },
      "outputs": [
        {
          "data": {
            "text/plain": [
              "['i', 'live', 'in', 'bangalore']"
            ]
          },
          "execution_count": 143,
          "metadata": {},
          "output_type": "execute_result"
        }
      ],
      "source": [
        "re.findall(\"[\\w]+\",text3)"
      ]
    },
    {
      "cell_type": "code",
      "execution_count": null,
      "metadata": {
        "id": "WgJBw3EctJwA"
      },
      "outputs": [],
      "source": [
        "import nltk"
      ]
    },
    {
      "cell_type": "code",
      "execution_count": null,
      "metadata": {
        "id": "CItZDeMRtJwA"
      },
      "outputs": [],
      "source": [
        "from nltk.tokenize import word_tokenize,sent_tokenize"
      ]
    },
    {
      "cell_type": "code",
      "execution_count": null,
      "metadata": {
        "id": "KDPIgWj_tJwB"
      },
      "outputs": [],
      "source": [
        "my_text=\"i am going to visit delhi tomorrow evening\""
      ]
    },
    {
      "cell_type": "code",
      "execution_count": null,
      "metadata": {
        "id": "IDmbqrPStJwB",
        "outputId": "3ec7b877-c6d0-4a18-bff2-209100e24599"
      },
      "outputs": [
        {
          "name": "stderr",
          "output_type": "stream",
          "text": [
            "[nltk_data] Downloading package punkt to /config/nltk_data...\n",
            "[nltk_data]   Unzipping tokenizers/punkt.zip.\n"
          ]
        },
        {
          "data": {
            "text/plain": [
              "True"
            ]
          },
          "execution_count": 148,
          "metadata": {},
          "output_type": "execute_result"
        }
      ],
      "source": [
        "nltk.download(\"punkt\")"
      ]
    },
    {
      "cell_type": "code",
      "execution_count": null,
      "metadata": {
        "id": "G56V0OwUtJwB",
        "outputId": "070e71e7-24f1-4022-8324-e5f359f3f708"
      },
      "outputs": [
        {
          "data": {
            "text/plain": [
              "['i', 'am', 'going', 'to', 'visit', 'delhi', 'tomorrow', 'evening']"
            ]
          },
          "execution_count": 149,
          "metadata": {},
          "output_type": "execute_result"
        }
      ],
      "source": [
        "word_tokenize(my_text)"
      ]
    },
    {
      "cell_type": "code",
      "execution_count": null,
      "metadata": {
        "id": "RNmmFjkntJwB"
      },
      "outputs": [],
      "source": [
        "my_text=\"i am going to visit delhi tomorrow evening!!!!\""
      ]
    },
    {
      "cell_type": "code",
      "execution_count": null,
      "metadata": {
        "id": "ffWe1X01tJwC",
        "outputId": "3ef5f147-cb4b-46e4-dbd9-3033f3c504e3"
      },
      "outputs": [
        {
          "data": {
            "text/plain": [
              "['i',\n",
              " 'am',\n",
              " 'going',\n",
              " 'to',\n",
              " 'visit',\n",
              " 'delhi',\n",
              " 'tomorrow',\n",
              " 'evening',\n",
              " '!',\n",
              " '!',\n",
              " '!',\n",
              " '!']"
            ]
          },
          "execution_count": 151,
          "metadata": {},
          "output_type": "execute_result"
        }
      ],
      "source": [
        "word_tokenize(my_text)"
      ]
    },
    {
      "cell_type": "code",
      "execution_count": null,
      "metadata": {
        "id": "neu5h_bTtJwC"
      },
      "outputs": [],
      "source": [
        "my_corpus=\"\"\"Generative artificial intelligence (generative AI, genAI, GenAI, GAI or GenAI[1]) is artificial intelligence capable of generating text, images or other data using generative models,[2] often in response to prompts.[3][4] Generative AI models learn the patterns and structure of their input training data and then generate new data that has similar characteristics.[5][6]\n",
        "\n",
        "Improvements in transformer-based deep neural networks enabled an AI boom of generative AI systems in the early 2020s. These include large language model (LLM) chatbots such as ChatGPT, Copilot, Bard, and LLaMA, and text-to-image artificial intelligence art systems such as Stable Diffusion, Midjourney, and DALL-E.[7][8][9] Companies such as OpenAI, Anthropic, Microsoft, Google, and Baidu as well as numerous smaller firms have developed generative AI models.[3][10][11]\"\"\""
      ]
    },
    {
      "cell_type": "code",
      "execution_count": null,
      "metadata": {
        "id": "pyw0ltOFtJwC",
        "outputId": "c31b1be7-e59e-47f6-9723-55f29818d624"
      },
      "outputs": [
        {
          "data": {
            "text/plain": [
              "'Generative artificial intelligence (generative AI, genAI, GenAI, GAI or GenAI[1]) is artificial intelligence capable of generating text, images or other data using generative models,[2] often in response to prompts.[3][4] Generative AI models learn the patterns and structure of their input training data and then generate new data that has similar characteristics.[5][6]\\n\\nImprovements in transformer-based deep neural networks enabled an AI boom of generative AI systems in the early 2020s. These include large language model (LLM) chatbots such as ChatGPT, Copilot, Bard, and LLaMA, and text-to-image artificial intelligence art systems such as Stable Diffusion, Midjourney, and DALL-E.[7][8][9] Companies such as OpenAI, Anthropic, Microsoft, Google, and Baidu as well as numerous smaller firms have developed generative AI models.[3][10][11]'"
            ]
          },
          "execution_count": 153,
          "metadata": {},
          "output_type": "execute_result"
        }
      ],
      "source": [
        "my_corpus"
      ]
    },
    {
      "cell_type": "code",
      "execution_count": null,
      "metadata": {
        "id": "J4gAYLgDtJwC",
        "outputId": "52c6b829-b207-4971-a58a-3aa4f2c738bd"
      },
      "outputs": [
        {
          "data": {
            "text/plain": [
              "['Generative artificial intelligence (generative AI, genAI, GenAI, GAI or GenAI[1]) is artificial intelligence capable of generating text, images or other data using generative models,[2] often in response to prompts.',\n",
              " '[3][4] Generative AI models learn the patterns and structure of their input training data and then generate new data that has similar characteristics.',\n",
              " '[5][6]\\n\\nImprovements in transformer-based deep neural networks enabled an AI boom of generative AI systems in the early 2020s.',\n",
              " 'These include large language model (LLM) chatbots such as ChatGPT, Copilot, Bard, and LLaMA, and text-to-image artificial intelligence art systems such as Stable Diffusion, Midjourney, and DALL-E.[7][8][9] Companies such as OpenAI, Anthropic, Microsoft, Google, and Baidu as well as numerous smaller firms have developed generative AI models.',\n",
              " '[3][10][11]']"
            ]
          },
          "execution_count": 154,
          "metadata": {},
          "output_type": "execute_result"
        }
      ],
      "source": [
        "sent_tokenize(my_corpus)"
      ]
    },
    {
      "cell_type": "code",
      "execution_count": null,
      "metadata": {
        "id": "EnmWI6rJtJwC"
      },
      "outputs": [],
      "source": [
        "# we can do it by using nltk and even with spacy\n",
        "\n",
        "# split\n",
        "# regular expression(simple google)\n",
        "# nltk"
      ]
    },
    {
      "cell_type": "code",
      "execution_count": null,
      "metadata": {
        "id": "g3jiJTlwtJwC"
      },
      "outputs": [],
      "source": [
        "import spacy\n",
        "\n",
        "# Load the English NLP model from spacy\n",
        "nlp = spacy.load(\"en_core_web_sm\")"
      ]
    },
    {
      "cell_type": "code",
      "execution_count": null,
      "metadata": {
        "id": "aS06oLnPtJwD"
      },
      "outputs": [],
      "source": [
        "def tokenize_text(text):\n",
        "    # Process the text with the spacy model\n",
        "    doc = nlp(text)\n",
        "\n",
        "    # Extract tokens from the processed document\n",
        "    tokens = [token.text for token in doc]\n",
        "\n",
        "    return tokens"
      ]
    },
    {
      "cell_type": "code",
      "execution_count": null,
      "metadata": {
        "id": "12Ev9NKTtJwD"
      },
      "outputs": [],
      "source": [
        "tokens=tokenize_text(my_corpus)"
      ]
    },
    {
      "cell_type": "code",
      "execution_count": null,
      "metadata": {
        "id": "NEUbzSQ0tJwD",
        "outputId": "1a613b55-772e-4618-8f4c-a8eb16645c6a"
      },
      "outputs": [
        {
          "name": "stdout",
          "output_type": "stream",
          "text": [
            "Generative\n",
            "artificial\n",
            "intelligence\n",
            "(\n",
            "generative\n",
            "AI\n",
            ",\n",
            "genAI\n",
            ",\n",
            "GenAI\n",
            ",\n",
            "GAI\n",
            "or\n",
            "GenAI[1\n",
            "]\n",
            ")\n",
            "is\n",
            "artificial\n",
            "intelligence\n",
            "capable\n",
            "of\n",
            "generating\n",
            "text\n",
            ",\n",
            "images\n",
            "or\n",
            "other\n",
            "data\n",
            "using\n",
            "generative\n",
            "models,[2\n",
            "]\n",
            "often\n",
            "in\n",
            "response\n",
            "to\n",
            "prompts.[3][4\n",
            "]\n",
            "Generative\n",
            "AI\n",
            "models\n",
            "learn\n",
            "the\n",
            "patterns\n",
            "and\n",
            "structure\n",
            "of\n",
            "their\n",
            "input\n",
            "training\n",
            "data\n",
            "and\n",
            "then\n",
            "generate\n",
            "new\n",
            "data\n",
            "that\n",
            "has\n",
            "similar\n",
            "characteristics.[5][6\n",
            "]\n",
            "\n",
            "\n",
            "\n",
            "Improvements\n",
            "in\n",
            "transformer\n",
            "-\n",
            "based\n",
            "deep\n",
            "neural\n",
            "networks\n",
            "enabled\n",
            "an\n",
            "AI\n",
            "boom\n",
            "of\n",
            "generative\n",
            "AI\n",
            "systems\n",
            "in\n",
            "the\n",
            "early\n",
            "2020s\n",
            ".\n",
            "These\n",
            "include\n",
            "large\n",
            "language\n",
            "model\n",
            "(\n",
            "LLM\n",
            ")\n",
            "chatbots\n",
            "such\n",
            "as\n",
            "ChatGPT\n",
            ",\n",
            "Copilot\n",
            ",\n",
            "Bard\n",
            ",\n",
            "and\n",
            "LLaMA\n",
            ",\n",
            "and\n",
            "text\n",
            "-\n",
            "to\n",
            "-\n",
            "image\n",
            "artificial\n",
            "intelligence\n",
            "art\n",
            "systems\n",
            "such\n",
            "as\n",
            "Stable\n",
            "Diffusion\n",
            ",\n",
            "Midjourney\n",
            ",\n",
            "and\n",
            "DALL\n",
            "-\n",
            "E.[7][8][9\n",
            "]\n",
            "Companies\n",
            "such\n",
            "as\n",
            "OpenAI\n",
            ",\n",
            "Anthropic\n",
            ",\n",
            "Microsoft\n",
            ",\n",
            "Google\n",
            ",\n",
            "and\n",
            "Baidu\n",
            "as\n",
            "well\n",
            "as\n",
            "numerous\n",
            "smaller\n",
            "firms\n",
            "have\n",
            "developed\n",
            "generative\n",
            "AI\n",
            "models.[3][10][11\n",
            "]\n"
          ]
        }
      ],
      "source": [
        "for word in tokens:\n",
        "    print(word)"
      ]
    },
    {
      "cell_type": "code",
      "execution_count": null,
      "metadata": {
        "id": "EEV8_aREtJwD"
      },
      "outputs": [],
      "source": []
    },
    {
      "cell_type": "code",
      "execution_count": null,
      "metadata": {
        "id": "AdrNXPN3tJwD"
      },
      "outputs": [],
      "source": [
        "\n",
        "\n",
        "\n",
        "\n",
        "# Example usage:\n",
        "text = \"Spacy is a powerful natural language processing library.\"\n",
        "tokens = tokenize_text(text)\n",
        "\n",
        "print(f\"Original text: {text}\")\n",
        "print(f\"Tokens: {tokens}\")\n"
      ]
    },
    {
      "cell_type": "code",
      "execution_count": null,
      "metadata": {
        "id": "PsBQfKvytJwE"
      },
      "outputs": [],
      "source": [
        "# stemming and lemmetization"
      ]
    },
    {
      "cell_type": "code",
      "execution_count": null,
      "metadata": {
        "id": "gd0eOXYWtJwE"
      },
      "outputs": [],
      "source": [
        "from nltk.stem import PorterStemmer\n",
        "\n",
        "def stemming(text):\n",
        "    obj=PorterStemmer()\n",
        "\n",
        "    stem_word=[obj.stem(word) for word in text.split()]\n",
        "\n",
        "    return stem_word"
      ]
    },
    {
      "cell_type": "code",
      "execution_count": null,
      "metadata": {
        "id": "Rg5cHfPMtJwE"
      },
      "outputs": [],
      "source": [
        "input_sentence = \"The quick brown foxes are jumping over the lazy dogs\""
      ]
    },
    {
      "cell_type": "code",
      "execution_count": null,
      "metadata": {
        "id": "nsbY6twjtJwF",
        "outputId": "a1525add-522d-467c-e8ae-7583e76fbb4f"
      },
      "outputs": [
        {
          "data": {
            "text/plain": [
              "\"'Ikigai' by Hector Garcia and Francesc Miralles explores the Japanese concept of finding one's purpose in life by analyzing the habits and beliefs of the world's longest-living people. Through case studies, the book offers practical insights on how to live a more fulfilling life.\""
            ]
          },
          "execution_count": 184,
          "metadata": {},
          "output_type": "execute_result"
        }
      ],
      "source": [
        "text"
      ]
    },
    {
      "cell_type": "code",
      "execution_count": null,
      "metadata": {
        "id": "hjZ67gtFtJwF",
        "outputId": "037d7a20-1625-41d0-92ae-28616ba07be1"
      },
      "outputs": [
        {
          "data": {
            "text/plain": [
              "[\"'ikigai'\",\n",
              " 'by',\n",
              " 'hector',\n",
              " 'garcia',\n",
              " 'and',\n",
              " 'francesc',\n",
              " 'miral',\n",
              " 'explor',\n",
              " 'the',\n",
              " 'japanes',\n",
              " 'concept',\n",
              " 'of',\n",
              " 'find',\n",
              " \"one'\",\n",
              " 'purpos',\n",
              " 'in',\n",
              " 'life',\n",
              " 'by',\n",
              " 'analyz',\n",
              " 'the',\n",
              " 'habit',\n",
              " 'and',\n",
              " 'belief',\n",
              " 'of',\n",
              " 'the',\n",
              " \"world'\",\n",
              " 'longest-liv',\n",
              " 'people.',\n",
              " 'through',\n",
              " 'case',\n",
              " 'studies,',\n",
              " 'the',\n",
              " 'book',\n",
              " 'offer',\n",
              " 'practic',\n",
              " 'insight',\n",
              " 'on',\n",
              " 'how',\n",
              " 'to',\n",
              " 'live',\n",
              " 'a',\n",
              " 'more',\n",
              " 'fulfil',\n",
              " 'life.']"
            ]
          },
          "execution_count": 183,
          "metadata": {},
          "output_type": "execute_result"
        }
      ],
      "source": [
        "stemming(text)"
      ]
    },
    {
      "cell_type": "code",
      "execution_count": null,
      "metadata": {
        "id": "cEifJQM8tJwF",
        "outputId": "eec1df42-222a-4e91-f1f8-f05b4bc0002b"
      },
      "outputs": [
        {
          "name": "stderr",
          "output_type": "stream",
          "text": [
            "[nltk_data] Downloading package wordnet to /config/nltk_data...\n"
          ]
        },
        {
          "data": {
            "text/plain": [
              "True"
            ]
          },
          "execution_count": 177,
          "metadata": {},
          "output_type": "execute_result"
        }
      ],
      "source": [
        "nltk.download('wordnet')"
      ]
    },
    {
      "cell_type": "code",
      "execution_count": null,
      "metadata": {
        "id": "-WmYSQhHtJwG"
      },
      "outputs": [],
      "source": [
        "from nltk.stem import WordNetLemmatizer\n",
        "\n",
        "def lammatization(text):\n",
        "    words=text.split()\n",
        "\n",
        "    lemmetizer=WordNetLemmatizer()\n",
        "\n",
        "    lemetized_word=[lemmetizer.lemmatize(word) for word in words]\n",
        "\n",
        "    return lemetized_word"
      ]
    },
    {
      "cell_type": "code",
      "execution_count": null,
      "metadata": {
        "id": "BEuDMv9GtJwG"
      },
      "outputs": [],
      "source": [
        "text=\"'Ikigai' by Hector Garcia and Francesc Miralles explores the Japanese concept of finding one's purpose in life by analyzing the habits and beliefs of the world's longest-living people. Through case studies, the book offers practical insights on how to live a more fulfilling life.\""
      ]
    },
    {
      "cell_type": "code",
      "execution_count": null,
      "metadata": {
        "id": "pg98l20-tJwG",
        "outputId": "74c1995f-1e53-458a-adeb-aeab016bd549"
      },
      "outputs": [
        {
          "data": {
            "text/plain": [
              "[\"'Ikigai'\",\n",
              " 'by',\n",
              " 'Hector',\n",
              " 'Garcia',\n",
              " 'and',\n",
              " 'Francesc',\n",
              " 'Miralles',\n",
              " 'explores',\n",
              " 'the',\n",
              " 'Japanese',\n",
              " 'concept',\n",
              " 'of',\n",
              " 'finding',\n",
              " \"one's\",\n",
              " 'purpose',\n",
              " 'in',\n",
              " 'life',\n",
              " 'by',\n",
              " 'analyzing',\n",
              " 'the',\n",
              " 'habit',\n",
              " 'and',\n",
              " 'belief',\n",
              " 'of',\n",
              " 'the',\n",
              " \"world's\",\n",
              " 'longest-living',\n",
              " 'people.',\n",
              " 'Through',\n",
              " 'case',\n",
              " 'studies,',\n",
              " 'the',\n",
              " 'book',\n",
              " 'offer',\n",
              " 'practical',\n",
              " 'insight',\n",
              " 'on',\n",
              " 'how',\n",
              " 'to',\n",
              " 'live',\n",
              " 'a',\n",
              " 'more',\n",
              " 'fulfilling',\n",
              " 'life.']"
            ]
          },
          "execution_count": 182,
          "metadata": {},
          "output_type": "execute_result"
        }
      ],
      "source": [
        "lammatization(text)"
      ]
    },
    {
      "cell_type": "code",
      "execution_count": null,
      "metadata": {
        "id": "eKvm4xORtJwH"
      },
      "outputs": [],
      "source": [
        "take a different senerio and work accoring to that\n",
        "\n"
      ]
    },
    {
      "cell_type": "code",
      "execution_count": null,
      "metadata": {
        "id": "7UA8c-IHtJwH",
        "outputId": "80e71c40-1e23-40d2-df12-7d796aab6ec2"
      },
      "outputs": [
        {
          "ename": "NameError",
          "evalue": "name 'tokenization' is not defined",
          "output_type": "error",
          "traceback": [
            "\u001b[0;31m---------------------------------------------------------------------------\u001b[0m",
            "\u001b[0;31mNameError\u001b[0m                                 Traceback (most recent call last)",
            "Cell \u001b[0;32mIn[187], line 1\u001b[0m\n\u001b[0;32m----> 1\u001b[0m \u001b[43mtokenization\u001b[49m\n\u001b[1;32m      2\u001b[0m lowercase\n\u001b[1;32m      3\u001b[0m uppercase\n",
            "\u001b[0;31mNameError\u001b[0m: name 'tokenization' is not defined"
          ]
        }
      ],
      "source": [
        "tokenization\n",
        "lowercase\n",
        "uppercase\n",
        "emojis\n",
        "pancuations\n",
        "html,url\n",
        "stopwords\n",
        "abbravation or slang\n",
        "steemming and lemmetization\n",
        "spelling correction\n",
        "whitspace\n",
        "\n",
        "did you get the idea how the clean the text:\n",
        "\n",
        "by next friday till 5 oclock\n",
        "\n",
        "\n",
        "\n"
      ]
    },
    {
      "cell_type": "code",
      "execution_count": null,
      "metadata": {
        "id": "Xx-qCxNQtJwH"
      },
      "outputs": [],
      "source": []
    },
    {
      "cell_type": "code",
      "execution_count": null,
      "metadata": {
        "id": "RQmkDz5HtJwH"
      },
      "outputs": [],
      "source": []
    },
    {
      "cell_type": "code",
      "execution_count": null,
      "metadata": {
        "id": "mb8DZn-2tJwH"
      },
      "outputs": [],
      "source": []
    }
  ],
  "metadata": {
    "kernelspec": {
      "display_name": "Python 3.9.13 ('base')",
      "language": "python",
      "name": "python3"
    },
    "language_info": {
      "codemirror_mode": {
        "name": "ipython",
        "version": 3
      },
      "file_extension": ".py",
      "mimetype": "text/x-python",
      "name": "python",
      "nbconvert_exporter": "python",
      "pygments_lexer": "ipython3",
      "version": "3.9.13"
    },
    "orig_nbformat": 4,
    "vscode": {
      "interpreter": {
        "hash": "ba7d6a92d9c7295bfdcfceb88786d0d9300abf0a1802f116b1f16ab64cdf39a0"
      }
    },
    "colab": {
      "provenance": [],
      "include_colab_link": true
    }
  },
  "nbformat": 4,
  "nbformat_minor": 0
}